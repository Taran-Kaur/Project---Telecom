{
 "cells": [
  {
   "cell_type": "markdown",
   "id": "0e23415e",
   "metadata": {
    "id": "0e23415e"
   },
   "source": [
    "***Project Description***\n",
    "\n",
    "Telecom, one of the leading telecom players, understands that customizing offering\n",
    "is very important for its business to stay competitive.\n",
    "Currently, InsaidTelecom is seeking to leverage behavioral data from more than 60% of the 50 million mobile devices active daily in India to help its clients better understand and interact with their audiences.\n"
   ]
  },
  {
   "cell_type": "markdown",
   "id": "d50a2b60",
   "metadata": {
    "id": "d50a2b60"
   },
   "source": [
    "***Consulting Goals***\n",
    "\n",
    "To help the customer the consultants are expected to have depth of clarity in the underlying data.\n",
    "How much effort has been put into cleansing and purifying the data will decide how closely have you looked at the data.\n",
    "How detailed is the observation stated in the submission report and finally how well a group presents their consulting journey.\n",
    "\n",
    "Please remember this is an analytics consulting hence, your efforts in terms of\n",
    "finding user behavior is going to directly impact the company's offerings.\n",
    "Do help the company understand what is the\n",
    "right way forward and suggest actionable insights from marketing and product terms."
   ]
  },
  {
   "cell_type": "markdown",
   "id": "1468a25c",
   "metadata": {
    "id": "1468a25c"
   },
   "source": [
    "### Data Description\n",
    "\n",
    "In this assignment, you are going to study the demographics of a user (gender and age) based on their app download and usage behaviors.\n",
    "\n",
    "The Data is collected from mobile apps that use InsaidTelecom services. \n",
    "Due to confidentiality, we won't provide details on how the gender and age data was obtained.\n",
    "Please treat them as accurate ground truth for prediction. The data schema can be represented in the following table:\n",
    "\n",
    "\n",
    "1. gender_age_train - Devices and their respective user gender, age and age_group\n",
    "\n",
    "2. phone_brand_device_model - device ids, brand, and models phone_brand: note that few brands are in Chinese\n",
    "\n",
    "Brand Name\t Brand English Mapping\n",
    "- '华为'\t'Huawei'\n",
    "- '小米'\t'Xiaomi'\n",
    "- '三星'\t'Samsung'\n",
    "- 'vivo'\t'vivo'\n",
    "- 'OPPO'\t'OPPO'\n",
    "- '魅族'\t'Meizu'\n",
    "- '酷派'\t'Coolpad'\n",
    "- '乐视'\t'LeEco'\n",
    "- '联想 '\t'Lenovo'\n",
    "- 'HTC'\t'HTC'\n",
    "\n",
    "3. events_data - when a user uses mobile on INSAID Telecom network, the event gets logged in this data.\n",
    "Each event has an event id, location (lat/long), and the event corresponds to frequency of mobile usage.\n",
    "timestamp: when the user is using the mobile.\n",
    "\n",
    "**States to focus for Consulting**\n",
    "\n",
    "- AndhraPradesh, \n",
    "- Pondicherry, \n",
    "- Mizoram, \n",
    "- AndamanandNicobarIslands, \n",
    "- Meghalaya, \n",
    "- HimachalPradesh"
   ]
  },
  {
   "cell_type": "markdown",
   "id": "c7f73634",
   "metadata": {
    "id": "c7f73634"
   },
   "source": [
    "Download the DataSets for events_data from : events_data.csv\n",
    "        \n",
    "\n",
    "        \n",
    "Download the DataSets for gender_age_train & phone_brand_device_model onto Python by connecting to the below\n",
    "provided MySQL instance.\n",
    "\n",
    "           \n",
    "host\t'cpanel.insaid.co'\n",
    "\n",
    "user\t'student'\n",
    "\n",
    "passwd\t'student'\n",
    "\n",
    "database\t'Capstone1'\n",
    "\n",
    "Use \"mysql.connector\" package in Python."
   ]
  },
  {
   "cell_type": "code",
   "execution_count": null,
   "id": "3c37b5f0",
   "metadata": {},
   "outputs": [],
   "source": [
    "# !pip install mysql-connector-python"
   ]
  },
  {
   "cell_type": "markdown",
   "id": "a34b0370",
   "metadata": {
    "id": "a34b0370"
   },
   "source": [
    "**1st Dataset**"
   ]
  },
  {
   "cell_type": "code",
   "execution_count": 1,
   "id": "73a86bf5",
   "metadata": {
    "scrolled": true
   },
   "outputs": [
    {
     "name": "stdout",
     "output_type": "stream",
     "text": [
      "Data Shape: (3252950, 7)\n"
     ]
    },
    {
     "data": {
      "text/html": [
       "<div>\n",
       "<style scoped>\n",
       "    .dataframe tbody tr th:only-of-type {\n",
       "        vertical-align: middle;\n",
       "    }\n",
       "\n",
       "    .dataframe tbody tr th {\n",
       "        vertical-align: top;\n",
       "    }\n",
       "\n",
       "    .dataframe thead th {\n",
       "        text-align: right;\n",
       "    }\n",
       "</style>\n",
       "<table border=\"1\" class=\"dataframe\">\n",
       "  <thead>\n",
       "    <tr style=\"text-align: right;\">\n",
       "      <th></th>\n",
       "      <th>event_id</th>\n",
       "      <th>device_id</th>\n",
       "      <th>timestamp</th>\n",
       "      <th>longitude</th>\n",
       "      <th>latitude</th>\n",
       "      <th>city</th>\n",
       "      <th>state</th>\n",
       "    </tr>\n",
       "  </thead>\n",
       "  <tbody>\n",
       "    <tr>\n",
       "      <th>0</th>\n",
       "      <td>2765368</td>\n",
       "      <td>2.973348e+18</td>\n",
       "      <td>2016-05-07 22:52:05</td>\n",
       "      <td>77.225676</td>\n",
       "      <td>28.730140</td>\n",
       "      <td>Delhi</td>\n",
       "      <td>Delhi</td>\n",
       "    </tr>\n",
       "    <tr>\n",
       "      <th>1</th>\n",
       "      <td>2955066</td>\n",
       "      <td>4.734221e+18</td>\n",
       "      <td>2016-05-01 20:44:16</td>\n",
       "      <td>88.388361</td>\n",
       "      <td>22.660325</td>\n",
       "      <td>Calcutta</td>\n",
       "      <td>WestBengal</td>\n",
       "    </tr>\n",
       "    <tr>\n",
       "      <th>2</th>\n",
       "      <td>605968</td>\n",
       "      <td>-3.264500e+18</td>\n",
       "      <td>2016-05-02 14:23:04</td>\n",
       "      <td>77.256809</td>\n",
       "      <td>28.757906</td>\n",
       "      <td>Delhi</td>\n",
       "      <td>Delhi</td>\n",
       "    </tr>\n",
       "    <tr>\n",
       "      <th>3</th>\n",
       "      <td>448114</td>\n",
       "      <td>5.731369e+18</td>\n",
       "      <td>2016-05-03 13:21:16</td>\n",
       "      <td>80.343613</td>\n",
       "      <td>13.153332</td>\n",
       "      <td>Chennai</td>\n",
       "      <td>TamilNadu</td>\n",
       "    </tr>\n",
       "    <tr>\n",
       "      <th>4</th>\n",
       "      <td>665740</td>\n",
       "      <td>3.388880e+17</td>\n",
       "      <td>2016-05-06 03:51:05</td>\n",
       "      <td>85.997745</td>\n",
       "      <td>23.842609</td>\n",
       "      <td>Bokaro</td>\n",
       "      <td>Jharkhand</td>\n",
       "    </tr>\n",
       "  </tbody>\n",
       "</table>\n",
       "</div>"
      ],
      "text/plain": [
       "   event_id     device_id            timestamp  longitude   latitude  \\\n",
       "0   2765368  2.973348e+18  2016-05-07 22:52:05  77.225676  28.730140   \n",
       "1   2955066  4.734221e+18  2016-05-01 20:44:16  88.388361  22.660325   \n",
       "2    605968 -3.264500e+18  2016-05-02 14:23:04  77.256809  28.757906   \n",
       "3    448114  5.731369e+18  2016-05-03 13:21:16  80.343613  13.153332   \n",
       "4    665740  3.388880e+17  2016-05-06 03:51:05  85.997745  23.842609   \n",
       "\n",
       "       city       state  \n",
       "0     Delhi       Delhi  \n",
       "1  Calcutta  WestBengal  \n",
       "2     Delhi       Delhi  \n",
       "3   Chennai   TamilNadu  \n",
       "4    Bokaro   Jharkhand  "
      ]
     },
     "execution_count": 1,
     "metadata": {},
     "output_type": "execute_result"
    }
   ],
   "source": [
    "import pandas as pd\n",
    "import numpy as np\n",
    "\n",
    "import matplotlib.pyplot as plt                                     # Importing pyplot interface to use matplotlib\n",
    "import seaborn as sns                                               # Importing seaborn library for interactive visualization\n",
    "%matplotlib inline\n",
    "\n",
    "import warnings\n",
    "warnings.filterwarnings('ignore')\n",
    "#-------------------------------------------------------------------------------------------------------------------------------\n",
    "import scipy as sp                                                  # Importing library for scientific calculations\n",
    "#-------------------------------------------------------------------------------------------------------------------------------\n",
    "\n",
    "events_data =  pd.read_csv(filepath_or_buffer = 'C:/Users/0128906/win/DataSets/CDF - Capstone Project/events_data.csv')\n",
    "\n",
    "# from google.colab import drive\n",
    "# drive.mount('/content/drive')\n",
    "\n",
    "# events_data =  pd.read_csv('/content/drive/My Drive/Data Science/CDF - Capstone Project/events_data.csv')\n",
    "\n",
    "\n",
    "print('Data Shape:', events_data.shape)\n",
    "events_data.head()"
   ]
  },
  {
   "cell_type": "markdown",
   "id": "ed41cd9c",
   "metadata": {
    "id": "ed41cd9c"
   },
   "source": [
    "**Observations:**\n",
    "- No null values in city\n",
    "- will first solve NULL values present in events_data\n",
    "- 1st will solve null value in state on the basis of city\n",
    "- 2nd will solve null value in longitude & latitude on the basis of city\n",
    "- 3rd will solve null value in device ID on the basis of city, longitude & latitude\n",
    "- also found the value of +ve and -ve device id we can replace with abs(), but will do later after confirming with Insaid.\n",
    "- Also Device ID are float.\n",
    "- also time stamp is object, we need to convert datatype of timestamp"
   ]
  },
  {
   "cell_type": "code",
   "execution_count": 2,
   "id": "4ae66c9c",
   "metadata": {},
   "outputs": [
    {
     "name": "stdout",
     "output_type": "stream",
     "text": [
      "<class 'pandas.core.frame.DataFrame'>\n",
      "RangeIndex: 3252950 entries, 0 to 3252949\n",
      "Data columns (total 7 columns):\n",
      " #   Column     Dtype  \n",
      "---  ------     -----  \n",
      " 0   event_id   int64  \n",
      " 1   device_id  float64\n",
      " 2   timestamp  object \n",
      " 3   longitude  float64\n",
      " 4   latitude   float64\n",
      " 5   city       object \n",
      " 6   state      object \n",
      "dtypes: float64(3), int64(1), object(3)\n",
      "memory usage: 173.7+ MB\n"
     ]
    }
   ],
   "source": [
    "events_data.info()"
   ]
  },
  {
   "cell_type": "code",
   "execution_count": 3,
   "id": "7a1efe50",
   "metadata": {},
   "outputs": [
    {
     "data": {
      "text/html": [
       "<div>\n",
       "<style scoped>\n",
       "    .dataframe tbody tr th:only-of-type {\n",
       "        vertical-align: middle;\n",
       "    }\n",
       "\n",
       "    .dataframe tbody tr th {\n",
       "        vertical-align: top;\n",
       "    }\n",
       "\n",
       "    .dataframe thead th {\n",
       "        text-align: right;\n",
       "    }\n",
       "</style>\n",
       "<table border=\"1\" class=\"dataframe\">\n",
       "  <thead>\n",
       "    <tr style=\"text-align: right;\">\n",
       "      <th></th>\n",
       "      <th>event_id</th>\n",
       "      <th>device_id</th>\n",
       "      <th>longitude</th>\n",
       "      <th>latitude</th>\n",
       "    </tr>\n",
       "  </thead>\n",
       "  <tbody>\n",
       "    <tr>\n",
       "      <th>count</th>\n",
       "      <td>3.252950e+06</td>\n",
       "      <td>3.252497e+06</td>\n",
       "      <td>3.252527e+06</td>\n",
       "      <td>3.252527e+06</td>\n",
       "    </tr>\n",
       "    <tr>\n",
       "      <th>mean</th>\n",
       "      <td>1.626476e+06</td>\n",
       "      <td>1.012200e+17</td>\n",
       "      <td>7.815868e+01</td>\n",
       "      <td>2.168851e+01</td>\n",
       "    </tr>\n",
       "    <tr>\n",
       "      <th>std</th>\n",
       "      <td>9.390459e+05</td>\n",
       "      <td>5.316758e+18</td>\n",
       "      <td>4.235570e+00</td>\n",
       "      <td>5.789111e+00</td>\n",
       "    </tr>\n",
       "    <tr>\n",
       "      <th>min</th>\n",
       "      <td>1.000000e+00</td>\n",
       "      <td>-9.222957e+18</td>\n",
       "      <td>1.256700e+01</td>\n",
       "      <td>8.190110e+00</td>\n",
       "    </tr>\n",
       "    <tr>\n",
       "      <th>25%</th>\n",
       "      <td>8.132382e+05</td>\n",
       "      <td>-4.540611e+18</td>\n",
       "      <td>7.583543e+01</td>\n",
       "      <td>1.780171e+01</td>\n",
       "    </tr>\n",
       "    <tr>\n",
       "      <th>50%</th>\n",
       "      <td>1.626476e+06</td>\n",
       "      <td>1.726820e+17</td>\n",
       "      <td>7.726814e+01</td>\n",
       "      <td>2.216454e+01</td>\n",
       "    </tr>\n",
       "    <tr>\n",
       "      <th>75%</th>\n",
       "      <td>2.439713e+06</td>\n",
       "      <td>4.861813e+18</td>\n",
       "      <td>8.031916e+01</td>\n",
       "      <td>2.868278e+01</td>\n",
       "    </tr>\n",
       "    <tr>\n",
       "      <th>max</th>\n",
       "      <td>3.252950e+06</td>\n",
       "      <td>9.222849e+18</td>\n",
       "      <td>9.545946e+01</td>\n",
       "      <td>4.187190e+01</td>\n",
       "    </tr>\n",
       "  </tbody>\n",
       "</table>\n",
       "</div>"
      ],
      "text/plain": [
       "           event_id     device_id     longitude      latitude\n",
       "count  3.252950e+06  3.252497e+06  3.252527e+06  3.252527e+06\n",
       "mean   1.626476e+06  1.012200e+17  7.815868e+01  2.168851e+01\n",
       "std    9.390459e+05  5.316758e+18  4.235570e+00  5.789111e+00\n",
       "min    1.000000e+00 -9.222957e+18  1.256700e+01  8.190110e+00\n",
       "25%    8.132382e+05 -4.540611e+18  7.583543e+01  1.780171e+01\n",
       "50%    1.626476e+06  1.726820e+17  7.726814e+01  2.216454e+01\n",
       "75%    2.439713e+06  4.861813e+18  8.031916e+01  2.868278e+01\n",
       "max    3.252950e+06  9.222849e+18  9.545946e+01  4.187190e+01"
      ]
     },
     "execution_count": 3,
     "metadata": {},
     "output_type": "execute_result"
    }
   ],
   "source": [
    "events_data.describe()"
   ]
  },
  {
   "cell_type": "markdown",
   "id": "adcfd1b3",
   "metadata": {
    "id": "adcfd1b3"
   },
   "source": [
    "**Observations:**\n",
    "- describe() gives output only for Continuous Variables\n",
    "- so event_id, \n",
    "- device_id - will handle with ffill() and bfill() bcoz ID's can never fill like as continuous.\n",
    "- longitude,\n",
    "- latitude\n",
    "\n",
    "**we will be handling missing data for longitude & latitude with mean\\median bcoz they are Continuous Variables**\n",
    "\n",
    "** and for Categorical Variables we handle with mode ** "
   ]
  },
  {
   "cell_type": "code",
   "execution_count": 4,
   "id": "6bba9fe3",
   "metadata": {},
   "outputs": [
    {
     "data": {
      "text/plain": [
       "event_id       0\n",
       "device_id    453\n",
       "timestamp      0\n",
       "longitude    423\n",
       "latitude     423\n",
       "city           0\n",
       "state        377\n",
       "dtype: int64"
      ]
     },
     "execution_count": 4,
     "metadata": {},
     "output_type": "execute_result"
    }
   ],
   "source": [
    "events_data.shape[0]-events_data.count()   #missing value in events_data"
   ]
  },
  {
   "cell_type": "code",
   "execution_count": 5,
   "id": "80fce377",
   "metadata": {},
   "outputs": [
    {
     "data": {
      "text/plain": [
       "array(['Pune', 'Visakhapatnam', 'Indore', 'Chennai', 'Delhi',\n",
       "       'Channapatna', 'Jaipur', 'Gangarampur', 'Arambagh'], dtype=object)"
      ]
     },
     "execution_count": 5,
     "metadata": {},
     "output_type": "execute_result"
    }
   ],
   "source": [
    "m_state = events_data[events_data['state'].isnull()].city.unique()\n",
    "m_state"
   ]
  },
  {
   "cell_type": "code",
   "execution_count": 6,
   "id": "93de6179",
   "metadata": {},
   "outputs": [],
   "source": [
    "# sloving missing values for State\n",
    "# lets fill the missing value only for these cities.\n",
    "\n",
    "events_data.loc[(events_data['state'].isnull()) & (events_data['city'] == 'Pune'),'state'] = 'Maharashtra' \n",
    "events_data.loc[(events_data['state'].isnull()) & (events_data['city'] == 'Visakhapatnam'),'state'] = 'AndhraPradesh'\n",
    "events_data.loc[(events_data['state'].isnull()) & (events_data['city'] == 'Indore'),'state'] = 'MadhyaPradesh'\n",
    "events_data.loc[(events_data['state'].isnull()) & (events_data['city'] == 'Chennai'),'state'] = 'TamilNadu'\n",
    "events_data.loc[(events_data['state'].isnull()) & (events_data['city'] == 'Delhi'),'state'] = 'Delhi'\n",
    "events_data.loc[(events_data['state'].isnull()) & (events_data['city'] == 'Channapatna'),'state'] = 'Karnataka'\n",
    "events_data.loc[(events_data['state'].isnull()) & (events_data['city'] == 'Jaipur'),'state'] = 'Rajasthan'\n",
    "events_data.loc[(events_data['state'].isnull()) & (events_data['city'] == 'Gangarampur'),'state'] = 'WestBengal'\n",
    "events_data.loc[(events_data['state'].isnull()) & (events_data['city'] == 'Arambagh'),'state'] = 'WestBengal'"
   ]
  },
  {
   "cell_type": "code",
   "execution_count": 7,
   "id": "c0fb30b5",
   "metadata": {},
   "outputs": [],
   "source": [
    "# sloving missing values for Lattitude & Logitude grouping city & fillna() with mean()\n",
    "\n",
    "events_data['latitude'] = events_data.groupby('city')['latitude'].apply(lambda x : x.fillna(x.mean()))\n",
    "\n",
    "events_data['longitude'] = events_data.groupby('city')['longitude'].apply(lambda x : x.fillna(x.mean()))"
   ]
  },
  {
   "cell_type": "markdown",
   "id": "c625d2a8",
   "metadata": {
    "id": "c625d2a8"
   },
   "source": [
    "**till here we solved missing value for state, latti, longi**\n",
    "\n",
    "lets take timestamp dtype conversion & then device ID col."
   ]
  },
  {
   "cell_type": "code",
   "execution_count": 8,
   "id": "8734457f",
   "metadata": {},
   "outputs": [
    {
     "data": {
      "text/html": [
       "<div>\n",
       "<style scoped>\n",
       "    .dataframe tbody tr th:only-of-type {\n",
       "        vertical-align: middle;\n",
       "    }\n",
       "\n",
       "    .dataframe tbody tr th {\n",
       "        vertical-align: top;\n",
       "    }\n",
       "\n",
       "    .dataframe thead th {\n",
       "        text-align: right;\n",
       "    }\n",
       "</style>\n",
       "<table border=\"1\" class=\"dataframe\">\n",
       "  <thead>\n",
       "    <tr style=\"text-align: right;\">\n",
       "      <th></th>\n",
       "      <th>event_id</th>\n",
       "      <th>device_id</th>\n",
       "      <th>timestamp</th>\n",
       "      <th>longitude</th>\n",
       "      <th>latitude</th>\n",
       "      <th>city</th>\n",
       "      <th>state</th>\n",
       "      <th>Time_stamp</th>\n",
       "      <th>Date</th>\n",
       "      <th>Hour</th>\n",
       "      <th>Minute</th>\n",
       "    </tr>\n",
       "  </thead>\n",
       "  <tbody>\n",
       "    <tr>\n",
       "      <th>0</th>\n",
       "      <td>2765368</td>\n",
       "      <td>2.973348e+18</td>\n",
       "      <td>2016-05-07 22:52:05</td>\n",
       "      <td>77.225676</td>\n",
       "      <td>28.730140</td>\n",
       "      <td>Delhi</td>\n",
       "      <td>Delhi</td>\n",
       "      <td>2016-05-07 22:52:05</td>\n",
       "      <td>2016-05-07</td>\n",
       "      <td>22</td>\n",
       "      <td>52</td>\n",
       "    </tr>\n",
       "    <tr>\n",
       "      <th>1</th>\n",
       "      <td>2955066</td>\n",
       "      <td>4.734221e+18</td>\n",
       "      <td>2016-05-01 20:44:16</td>\n",
       "      <td>88.388361</td>\n",
       "      <td>22.660325</td>\n",
       "      <td>Calcutta</td>\n",
       "      <td>WestBengal</td>\n",
       "      <td>2016-05-01 20:44:16</td>\n",
       "      <td>2016-05-01</td>\n",
       "      <td>20</td>\n",
       "      <td>44</td>\n",
       "    </tr>\n",
       "    <tr>\n",
       "      <th>2</th>\n",
       "      <td>605968</td>\n",
       "      <td>-3.264500e+18</td>\n",
       "      <td>2016-05-02 14:23:04</td>\n",
       "      <td>77.256809</td>\n",
       "      <td>28.757906</td>\n",
       "      <td>Delhi</td>\n",
       "      <td>Delhi</td>\n",
       "      <td>2016-05-02 14:23:04</td>\n",
       "      <td>2016-05-02</td>\n",
       "      <td>14</td>\n",
       "      <td>23</td>\n",
       "    </tr>\n",
       "    <tr>\n",
       "      <th>3</th>\n",
       "      <td>448114</td>\n",
       "      <td>5.731369e+18</td>\n",
       "      <td>2016-05-03 13:21:16</td>\n",
       "      <td>80.343613</td>\n",
       "      <td>13.153332</td>\n",
       "      <td>Chennai</td>\n",
       "      <td>TamilNadu</td>\n",
       "      <td>2016-05-03 13:21:16</td>\n",
       "      <td>2016-05-03</td>\n",
       "      <td>13</td>\n",
       "      <td>21</td>\n",
       "    </tr>\n",
       "    <tr>\n",
       "      <th>4</th>\n",
       "      <td>665740</td>\n",
       "      <td>3.388880e+17</td>\n",
       "      <td>2016-05-06 03:51:05</td>\n",
       "      <td>85.997745</td>\n",
       "      <td>23.842609</td>\n",
       "      <td>Bokaro</td>\n",
       "      <td>Jharkhand</td>\n",
       "      <td>2016-05-06 03:51:05</td>\n",
       "      <td>2016-05-06</td>\n",
       "      <td>3</td>\n",
       "      <td>51</td>\n",
       "    </tr>\n",
       "  </tbody>\n",
       "</table>\n",
       "</div>"
      ],
      "text/plain": [
       "   event_id     device_id            timestamp  longitude   latitude  \\\n",
       "0   2765368  2.973348e+18  2016-05-07 22:52:05  77.225676  28.730140   \n",
       "1   2955066  4.734221e+18  2016-05-01 20:44:16  88.388361  22.660325   \n",
       "2    605968 -3.264500e+18  2016-05-02 14:23:04  77.256809  28.757906   \n",
       "3    448114  5.731369e+18  2016-05-03 13:21:16  80.343613  13.153332   \n",
       "4    665740  3.388880e+17  2016-05-06 03:51:05  85.997745  23.842609   \n",
       "\n",
       "       city       state          Time_stamp        Date  Hour  Minute  \n",
       "0     Delhi       Delhi 2016-05-07 22:52:05  2016-05-07    22      52  \n",
       "1  Calcutta  WestBengal 2016-05-01 20:44:16  2016-05-01    20      44  \n",
       "2     Delhi       Delhi 2016-05-02 14:23:04  2016-05-02    14      23  \n",
       "3   Chennai   TamilNadu 2016-05-03 13:21:16  2016-05-03    13      21  \n",
       "4    Bokaro   Jharkhand 2016-05-06 03:51:05  2016-05-06     3      51  "
      ]
     },
     "execution_count": 8,
     "metadata": {},
     "output_type": "execute_result"
    }
   ],
   "source": [
    "events_data['Time_stamp'] = pd.to_datetime(events_data['timestamp'])\n",
    "\n",
    "events_data['Date'] = pd.to_datetime(events_data['Time_stamp']).dt.date\n",
    "events_data['Hour'] = pd.to_datetime(events_data['Time_stamp']).dt.hour\n",
    "events_data['Minute'] = pd.to_datetime(events_data['Time_stamp']).dt.minute\n",
    "\n",
    "events_data.head()"
   ]
  },
  {
   "cell_type": "code",
   "execution_count": 9,
   "id": "9c3985b3",
   "metadata": {},
   "outputs": [
    {
     "name": "stdout",
     "output_type": "stream",
     "text": [
      "<class 'pandas.core.frame.DataFrame'>\n",
      "RangeIndex: 3252950 entries, 0 to 3252949\n",
      "Data columns (total 11 columns):\n",
      " #   Column      Dtype         \n",
      "---  ------      -----         \n",
      " 0   event_id    int64         \n",
      " 1   device_id   float64       \n",
      " 2   timestamp   object        \n",
      " 3   longitude   float64       \n",
      " 4   latitude    float64       \n",
      " 5   city        object        \n",
      " 6   state       object        \n",
      " 7   Time_stamp  datetime64[ns]\n",
      " 8   Date        object        \n",
      " 9   Hour        int64         \n",
      " 10  Minute      int64         \n",
      "dtypes: datetime64[ns](1), float64(3), int64(3), object(4)\n",
      "memory usage: 273.0+ MB\n"
     ]
    }
   ],
   "source": [
    "events_data.info()"
   ]
  },
  {
   "cell_type": "code",
   "execution_count": 10,
   "id": "be4f9424",
   "metadata": {},
   "outputs": [],
   "source": [
    "# lets fill device ID's null values\n",
    "\n",
    "events_data['device_id'] = events_data.groupby(['city', 'Date'])['device_id'].apply(lambda x : x.ffill().bfill())"
   ]
  },
  {
   "cell_type": "code",
   "execution_count": 11,
   "id": "74ac3fbf",
   "metadata": {},
   "outputs": [
    {
     "data": {
      "text/plain": [
       "event_id      0\n",
       "device_id     0\n",
       "timestamp     0\n",
       "longitude     0\n",
       "latitude      0\n",
       "city          0\n",
       "state         0\n",
       "Time_stamp    0\n",
       "Date          0\n",
       "Hour          0\n",
       "Minute        0\n",
       "dtype: int64"
      ]
     },
     "execution_count": 11,
     "metadata": {},
     "output_type": "execute_result"
    }
   ],
   "source": [
    "events_data.isna().sum()            # missing values solved for Device ID with Timestamp"
   ]
  },
  {
   "cell_type": "code",
   "execution_count": 12,
   "id": "e1e75446",
   "metadata": {},
   "outputs": [
    {
     "data": {
      "text/plain": [
       "(3252950, 11)"
      ]
     },
     "execution_count": 12,
     "metadata": {},
     "output_type": "execute_result"
    }
   ],
   "source": [
    "events_data.shape"
   ]
  },
  {
   "cell_type": "markdown",
   "id": "4d62fd2c",
   "metadata": {
    "id": "4d62fd2c"
   },
   "source": [
    "## Solved all NULL values till here"
   ]
  },
  {
   "cell_type": "markdown",
   "id": "ab5d209b",
   "metadata": {
    "id": "a34b0370"
   },
   "source": [
    "**2nd Dataset**"
   ]
  },
  {
   "cell_type": "code",
   "execution_count": 13,
   "id": "f6730bb7",
   "metadata": {},
   "outputs": [
    {
     "name": "stdout",
     "output_type": "stream",
     "text": [
      "             device_id phone_brand device_model\n",
      "0  1877775838486905855        vivo          Y13\n",
      "1 -3766087376657242966          小米         V183\n",
      "2 -6238937574958215831        OPPO          R7s\n",
      "3  8973197758510677470          三星        A368t\n",
      "4 -2015528097870762664          小米      红米Note2 \n",
      "\n",
      "\n",
      "<class 'pandas.core.frame.DataFrame'>\n",
      "RangeIndex: 87726 entries, 0 to 87725\n",
      "Data columns (total 3 columns):\n",
      " #   Column        Non-Null Count  Dtype \n",
      "---  ------        --------------  ----- \n",
      " 0   device_id     87726 non-null  int64 \n",
      " 1   phone_brand   87726 non-null  object\n",
      " 2   device_model  87726 non-null  object\n",
      "dtypes: int64(1), object(2)\n",
      "memory usage: 2.0+ MB\n",
      "None\n"
     ]
    }
   ],
   "source": [
    "import mysql.connector\n",
    "import pandas as pd\n",
    "from mysql.connector import errorcode\n",
    "\n",
    "try:\n",
    "    mydb = mysql.connector.connect(\n",
    "  host=\"cpanel.insaid.co\",\n",
    "  user=\"student\",\n",
    "  password=\"student\",\n",
    "    database = \"Capstone1\")\n",
    "\n",
    "    mycursor1 = mydb.cursor()\n",
    "\n",
    "    mycursor1.execute(\"SELECT * FROM phone_brand_device_model\")\n",
    "\n",
    "    myresult1 = mycursor1.fetchall()\n",
    "\n",
    "    phone_brand_device = pd.read_sql_query('SELECT * FROM phone_brand_device_model', con=mydb)\n",
    "\n",
    "    print(phone_brand_device.head(),'\\n\\n')\n",
    "    print(phone_brand_device.info())\n",
    "\n",
    "except mysql.connector.Error as err:\n",
    "    if err.errno == errorcode.ER_ACCESS_DENIED_ERROR:\n",
    "        print(\"Something is wrong with your user name or password\")\n",
    "    elif err.errno == errorcode.ER_BAD_DB_ERROR:\n",
    "        print(\"Database does not exist\")\n",
    "    else:\n",
    "        print(err)\n",
    "else:\n",
    "    mydb.close()"
   ]
  },
  {
   "cell_type": "code",
   "execution_count": 14,
   "id": "13270287",
   "metadata": {},
   "outputs": [],
   "source": [
    "phone_brand_device['device_id'] = phone_brand_device['device_id'].astype(float)"
   ]
  },
  {
   "cell_type": "code",
   "execution_count": 15,
   "id": "d776b33c",
   "metadata": {},
   "outputs": [
    {
     "name": "stdout",
     "output_type": "stream",
     "text": [
      "<class 'pandas.core.frame.DataFrame'>\n",
      "RangeIndex: 87726 entries, 0 to 87725\n",
      "Data columns (total 3 columns):\n",
      " #   Column        Non-Null Count  Dtype  \n",
      "---  ------        --------------  -----  \n",
      " 0   device_id     87726 non-null  float64\n",
      " 1   phone_brand   87726 non-null  object \n",
      " 2   device_model  87726 non-null  object \n",
      "dtypes: float64(1), object(2)\n",
      "memory usage: 2.0+ MB\n"
     ]
    }
   ],
   "source": [
    "phone_brand_device.info() "
   ]
  },
  {
   "cell_type": "code",
   "execution_count": 16,
   "id": "0760ac86",
   "metadata": {},
   "outputs": [],
   "source": [
    "phone_brand_device.replace(to_replace={'小米': 'Xiaomi', '三星': 'Samsung',\n",
    "                                 '酷派':'Coolpads','联想 ':'Lenovo','华为':'Huawei','魅族':'Meizu','乐视 ':'LeEco'\n",
    "                                      , '波导': 'Ningbo Bird','海信':'Hisense','朵唯':'Doov','努比亚':'Nubia',\n",
    "                                       '中国移动':'China Mobile','优米':'Youmi','锤子':'Smartisan',\n",
    "                                       '爱派尔':'szempire','一加':'OnePlus'},inplace=True)"
   ]
  },
  {
   "cell_type": "code",
   "execution_count": 17,
   "id": "a232a7c2",
   "metadata": {},
   "outputs": [
    {
     "data": {
      "text/plain": [
       "False"
      ]
     },
     "execution_count": 17,
     "metadata": {},
     "output_type": "execute_result"
    }
   ],
   "source": [
    "phone_brand_device['device_id'].duplicated().any()  # to verify duplicate values"
   ]
  },
  {
   "cell_type": "markdown",
   "id": "394534c1",
   "metadata": {},
   "source": [
    "**3rd Dataset**"
   ]
  },
  {
   "cell_type": "code",
   "execution_count": 18,
   "id": "f11ecbf7",
   "metadata": {},
   "outputs": [
    {
     "name": "stdout",
     "output_type": "stream",
     "text": [
      "             device_id gender  age   group\n",
      "0 -8076087639492063270      M   35  M32-38\n",
      "1 -2897161552818060146      M   35  M32-38\n",
      "2 -8260683887967679142      M   35  M32-38\n",
      "3 -4938849341048082022      M   30  M29-31\n",
      "4   245133531816851882      M   30  M29-31 \n",
      "\n",
      "\n",
      "<class 'pandas.core.frame.DataFrame'>\n",
      "RangeIndex: 74645 entries, 0 to 74644\n",
      "Data columns (total 4 columns):\n",
      " #   Column     Non-Null Count  Dtype \n",
      "---  ------     --------------  ----- \n",
      " 0   device_id  74645 non-null  int64 \n",
      " 1   gender     74645 non-null  object\n",
      " 2   age        74645 non-null  int64 \n",
      " 3   group      74645 non-null  object\n",
      "dtypes: int64(2), object(2)\n",
      "memory usage: 2.3+ MB\n",
      "None\n"
     ]
    }
   ],
   "source": [
    "import mysql.connector                             \n",
    "import pandas as pd\n",
    "from mysql.connector import errorcode\n",
    "\n",
    "try:\n",
    "    mydb = mysql.connector.connect(\n",
    "  host=\"cpanel.insaid.co\",\n",
    "  user=\"student\",\n",
    "  password=\"student\",\n",
    "    database = \"Capstone1\")\n",
    "\n",
    "    mycursor = mydb.cursor()\n",
    "\n",
    "    mycursor.execute(\"SELECT * FROM gender_age_train\")\n",
    "\n",
    "    myresult = mycursor.fetchall()\n",
    "\n",
    "    gender_age = pd.read_sql_query('SELECT * FROM gender_age_train', con=mydb)\n",
    "\n",
    "    print(gender_age.head(),'\\n\\n')\n",
    "    print(gender_age.info())\n",
    "\n",
    "except mysql.connector.Error as err:\n",
    "    if err.errno == errorcode.ER_ACCESS_DENIED_ERROR:\n",
    "        print(\"Something is wrong with your user name or password\")\n",
    "    elif err.errno == errorcode.ER_BAD_DB_ERROR:\n",
    "        print(\"Database does not exist\")\n",
    "    else:\n",
    "        print(err)\n",
    "else:\n",
    "    mydb.close()"
   ]
  },
  {
   "cell_type": "code",
   "execution_count": 20,
   "id": "55faf8a2",
   "metadata": {},
   "outputs": [],
   "source": [
    "gender_age['device_id'] = gender_age['device_id'].astype(float)"
   ]
  },
  {
   "cell_type": "code",
   "execution_count": 21,
   "id": "178e6483",
   "metadata": {},
   "outputs": [
    {
     "name": "stdout",
     "output_type": "stream",
     "text": [
      "<class 'pandas.core.frame.DataFrame'>\n",
      "RangeIndex: 74645 entries, 0 to 74644\n",
      "Data columns (total 4 columns):\n",
      " #   Column     Non-Null Count  Dtype  \n",
      "---  ------     --------------  -----  \n",
      " 0   device_id  74645 non-null  float64\n",
      " 1   gender     74645 non-null  object \n",
      " 2   age        74645 non-null  int64  \n",
      " 3   group      74645 non-null  object \n",
      "dtypes: float64(1), int64(1), object(2)\n",
      "memory usage: 2.3+ MB\n"
     ]
    }
   ],
   "source": [
    "gender_age.info()       #after float conversion"
   ]
  },
  {
   "cell_type": "code",
   "execution_count": 22,
   "id": "b412932e",
   "metadata": {},
   "outputs": [
    {
     "data": {
      "text/plain": [
       "False"
      ]
     },
     "execution_count": 22,
     "metadata": {},
     "output_type": "execute_result"
    }
   ],
   "source": [
    "gender_age['device_id'].duplicated().any()     # to verify duplicate values"
   ]
  },
  {
   "cell_type": "markdown",
   "id": "fbf2aa88",
   "metadata": {},
   "source": [
    "### Merging Datasets"
   ]
  },
  {
   "cell_type": "code",
   "execution_count": 23,
   "id": "8f5ccb99",
   "metadata": {
    "scrolled": false
   },
   "outputs": [
    {
     "name": "stdout",
     "output_type": "stream",
     "text": [
      "      device_id phone_brand device_model  event_id            timestamp  \\\n",
      "0  2.451335e+17       SUGAR         时尚手机   1051738  2016-05-07 20:09:19   \n",
      "1  2.451335e+17       SUGAR         时尚手机   1620945  2016-05-07 20:10:19   \n",
      "2  2.451335e+17       SUGAR         时尚手机   2132492  2016-05-07 20:13:57   \n",
      "3  2.451335e+17       SUGAR         时尚手机   2745095  2016-05-07 20:10:49   \n",
      "4 -8.098239e+18      Xiaomi        MI 2S   1198750  2016-05-01 10:07:21   \n",
      "\n",
      "   longitude   latitude     city         state          Time_stamp  \\\n",
      "0  77.738434  27.575918  Mathura  UttarPradesh 2016-05-07 20:09:19   \n",
      "1  77.738434  27.575918  Mathura  UttarPradesh 2016-05-07 20:10:19   \n",
      "2  77.738434  27.575918  Mathura  UttarPradesh 2016-05-07 20:13:57   \n",
      "3  77.738434  27.575918  Mathura  UttarPradesh 2016-05-07 20:10:49   \n",
      "4  75.756168  29.233859    Hisar       Haryana 2016-05-01 10:07:21   \n",
      "\n",
      "         Date  Hour  Minute  \n",
      "0  2016-05-07    20       9  \n",
      "1  2016-05-07    20      10  \n",
      "2  2016-05-07    20      13  \n",
      "3  2016-05-07    20      10  \n",
      "4  2016-05-01    10       7   \n",
      "\n",
      "\n",
      "<class 'pandas.core.frame.DataFrame'>\n",
      "Int64Index: 3252950 entries, 0 to 3252949\n",
      "Data columns (total 13 columns):\n",
      " #   Column        Dtype         \n",
      "---  ------        -----         \n",
      " 0   device_id     float64       \n",
      " 1   phone_brand   object        \n",
      " 2   device_model  object        \n",
      " 3   event_id      int64         \n",
      " 4   timestamp     object        \n",
      " 5   longitude     float64       \n",
      " 6   latitude      float64       \n",
      " 7   city          object        \n",
      " 8   state         object        \n",
      " 9   Time_stamp    datetime64[ns]\n",
      " 10  Date          object        \n",
      " 11  Hour          int64         \n",
      " 12  Minute        int64         \n",
      "dtypes: datetime64[ns](1), float64(3), int64(3), object(6)\n",
      "memory usage: 347.5+ MB\n",
      "None\n"
     ]
    }
   ],
   "source": [
    "df1 = pd.merge(phone_brand_device, events_data, on = 'device_id', how = 'inner')\n",
    "print(df1.head(),'\\n\\n')\n",
    "print(df1.info())"
   ]
  },
  {
   "cell_type": "code",
   "execution_count": 23,
   "id": "cb1eddf0",
   "metadata": {},
   "outputs": [
    {
     "data": {
      "text/plain": [
       "(3252950, 13)"
      ]
     },
     "execution_count": 23,
     "metadata": {},
     "output_type": "execute_result"
    }
   ],
   "source": [
    "df1.shape"
   ]
  },
  {
   "cell_type": "code",
   "execution_count": 24,
   "id": "07c402e9",
   "metadata": {},
   "outputs": [
    {
     "data": {
      "text/plain": [
       "device_id       0\n",
       "phone_brand     0\n",
       "device_model    0\n",
       "event_id        0\n",
       "timestamp       0\n",
       "longitude       0\n",
       "latitude        0\n",
       "city            0\n",
       "state           0\n",
       "Time_stamp      0\n",
       "Date            0\n",
       "Hour            0\n",
       "Minute          0\n",
       "dtype: int64"
      ]
     },
     "execution_count": 24,
     "metadata": {},
     "output_type": "execute_result"
    }
   ],
   "source": [
    "df1.isnull().sum()"
   ]
  },
  {
   "cell_type": "code",
   "execution_count": 25,
   "id": "f5aff395",
   "metadata": {},
   "outputs": [],
   "source": [
    "state_focus = ['AndhraPradesh', 'Pondicherry', 'Mizoram', 'AndamanandNicobarIslands', 'Meghalaya', 'HimachalPradesh']"
   ]
  },
  {
   "cell_type": "code",
   "execution_count": 26,
   "id": "e469dbfe",
   "metadata": {},
   "outputs": [],
   "source": [
    "df1_with_6_states = df1[df1['state'].isin(state_focus)]"
   ]
  },
  {
   "cell_type": "code",
   "execution_count": 27,
   "id": "e81db1f5",
   "metadata": {},
   "outputs": [
    {
     "data": {
      "text/html": [
       "<div>\n",
       "<style scoped>\n",
       "    .dataframe tbody tr th:only-of-type {\n",
       "        vertical-align: middle;\n",
       "    }\n",
       "\n",
       "    .dataframe tbody tr th {\n",
       "        vertical-align: top;\n",
       "    }\n",
       "\n",
       "    .dataframe thead tr th {\n",
       "        text-align: left;\n",
       "    }\n",
       "\n",
       "    .dataframe thead tr:last-of-type th {\n",
       "        text-align: right;\n",
       "    }\n",
       "</style>\n",
       "<table border=\"1\" class=\"dataframe\">\n",
       "  <thead>\n",
       "    <tr>\n",
       "      <th></th>\n",
       "      <th colspan=\"8\" halign=\"left\">device_id</th>\n",
       "      <th colspan=\"2\" halign=\"left\">event_id</th>\n",
       "      <th>...</th>\n",
       "      <th colspan=\"2\" halign=\"left\">Hour</th>\n",
       "      <th colspan=\"8\" halign=\"left\">Minute</th>\n",
       "    </tr>\n",
       "    <tr>\n",
       "      <th></th>\n",
       "      <th>count</th>\n",
       "      <th>mean</th>\n",
       "      <th>std</th>\n",
       "      <th>min</th>\n",
       "      <th>25%</th>\n",
       "      <th>50%</th>\n",
       "      <th>75%</th>\n",
       "      <th>max</th>\n",
       "      <th>count</th>\n",
       "      <th>mean</th>\n",
       "      <th>...</th>\n",
       "      <th>75%</th>\n",
       "      <th>max</th>\n",
       "      <th>count</th>\n",
       "      <th>mean</th>\n",
       "      <th>std</th>\n",
       "      <th>min</th>\n",
       "      <th>25%</th>\n",
       "      <th>50%</th>\n",
       "      <th>75%</th>\n",
       "      <th>max</th>\n",
       "    </tr>\n",
       "    <tr>\n",
       "      <th>state</th>\n",
       "      <th></th>\n",
       "      <th></th>\n",
       "      <th></th>\n",
       "      <th></th>\n",
       "      <th></th>\n",
       "      <th></th>\n",
       "      <th></th>\n",
       "      <th></th>\n",
       "      <th></th>\n",
       "      <th></th>\n",
       "      <th></th>\n",
       "      <th></th>\n",
       "      <th></th>\n",
       "      <th></th>\n",
       "      <th></th>\n",
       "      <th></th>\n",
       "      <th></th>\n",
       "      <th></th>\n",
       "      <th></th>\n",
       "      <th></th>\n",
       "      <th></th>\n",
       "    </tr>\n",
       "  </thead>\n",
       "  <tbody>\n",
       "    <tr>\n",
       "      <th>AndamanandNicobarIslands</th>\n",
       "      <td>1515.0</td>\n",
       "      <td>1.407078e+17</td>\n",
       "      <td>5.022696e+18</td>\n",
       "      <td>-9.194480e+18</td>\n",
       "      <td>-2.785190e+18</td>\n",
       "      <td>-1.197758e+18</td>\n",
       "      <td>5.682447e+18</td>\n",
       "      <td>8.788237e+18</td>\n",
       "      <td>1515.0</td>\n",
       "      <td>1.661683e+06</td>\n",
       "      <td>...</td>\n",
       "      <td>20.0</td>\n",
       "      <td>23.0</td>\n",
       "      <td>1515.0</td>\n",
       "      <td>27.676568</td>\n",
       "      <td>17.650458</td>\n",
       "      <td>0.0</td>\n",
       "      <td>12.0</td>\n",
       "      <td>27.0</td>\n",
       "      <td>43.0</td>\n",
       "      <td>59.0</td>\n",
       "    </tr>\n",
       "    <tr>\n",
       "      <th>AndhraPradesh</th>\n",
       "      <td>321379.0</td>\n",
       "      <td>1.065864e+17</td>\n",
       "      <td>5.355062e+18</td>\n",
       "      <td>-9.222173e+18</td>\n",
       "      <td>-4.718484e+18</td>\n",
       "      <td>-2.849262e+16</td>\n",
       "      <td>4.945475e+18</td>\n",
       "      <td>9.220807e+18</td>\n",
       "      <td>321379.0</td>\n",
       "      <td>1.625741e+06</td>\n",
       "      <td>...</td>\n",
       "      <td>18.0</td>\n",
       "      <td>23.0</td>\n",
       "      <td>321379.0</td>\n",
       "      <td>28.042218</td>\n",
       "      <td>17.554142</td>\n",
       "      <td>0.0</td>\n",
       "      <td>13.0</td>\n",
       "      <td>27.0</td>\n",
       "      <td>43.0</td>\n",
       "      <td>59.0</td>\n",
       "    </tr>\n",
       "    <tr>\n",
       "      <th>HimachalPradesh</th>\n",
       "      <td>1409.0</td>\n",
       "      <td>5.128569e+17</td>\n",
       "      <td>3.783347e+18</td>\n",
       "      <td>-8.263626e+18</td>\n",
       "      <td>-1.832065e+18</td>\n",
       "      <td>8.735586e+17</td>\n",
       "      <td>2.601240e+18</td>\n",
       "      <td>9.019983e+18</td>\n",
       "      <td>1409.0</td>\n",
       "      <td>1.631370e+06</td>\n",
       "      <td>...</td>\n",
       "      <td>21.0</td>\n",
       "      <td>23.0</td>\n",
       "      <td>1409.0</td>\n",
       "      <td>28.777857</td>\n",
       "      <td>17.618581</td>\n",
       "      <td>0.0</td>\n",
       "      <td>13.0</td>\n",
       "      <td>29.0</td>\n",
       "      <td>43.0</td>\n",
       "      <td>59.0</td>\n",
       "    </tr>\n",
       "    <tr>\n",
       "      <th>Meghalaya</th>\n",
       "      <td>1515.0</td>\n",
       "      <td>-5.816818e+17</td>\n",
       "      <td>5.290465e+18</td>\n",
       "      <td>-9.135932e+18</td>\n",
       "      <td>-4.799203e+18</td>\n",
       "      <td>-1.370786e+18</td>\n",
       "      <td>3.133503e+18</td>\n",
       "      <td>9.206022e+18</td>\n",
       "      <td>1515.0</td>\n",
       "      <td>1.621669e+06</td>\n",
       "      <td>...</td>\n",
       "      <td>20.0</td>\n",
       "      <td>23.0</td>\n",
       "      <td>1515.0</td>\n",
       "      <td>28.136634</td>\n",
       "      <td>18.320945</td>\n",
       "      <td>0.0</td>\n",
       "      <td>11.0</td>\n",
       "      <td>29.0</td>\n",
       "      <td>45.0</td>\n",
       "      <td>59.0</td>\n",
       "    </tr>\n",
       "    <tr>\n",
       "      <th>Mizoram</th>\n",
       "      <td>1613.0</td>\n",
       "      <td>-2.390194e+18</td>\n",
       "      <td>3.953806e+18</td>\n",
       "      <td>-8.698959e+18</td>\n",
       "      <td>-6.354642e+18</td>\n",
       "      <td>-2.648870e+18</td>\n",
       "      <td>5.167253e+17</td>\n",
       "      <td>9.038479e+18</td>\n",
       "      <td>1613.0</td>\n",
       "      <td>1.674695e+06</td>\n",
       "      <td>...</td>\n",
       "      <td>19.0</td>\n",
       "      <td>23.0</td>\n",
       "      <td>1613.0</td>\n",
       "      <td>27.908865</td>\n",
       "      <td>17.731727</td>\n",
       "      <td>0.0</td>\n",
       "      <td>12.0</td>\n",
       "      <td>27.0</td>\n",
       "      <td>43.0</td>\n",
       "      <td>59.0</td>\n",
       "    </tr>\n",
       "    <tr>\n",
       "      <th>Pondicherry</th>\n",
       "      <td>1741.0</td>\n",
       "      <td>3.008708e+17</td>\n",
       "      <td>4.807785e+18</td>\n",
       "      <td>-9.204220e+18</td>\n",
       "      <td>-2.689792e+18</td>\n",
       "      <td>7.207747e+17</td>\n",
       "      <td>3.790814e+18</td>\n",
       "      <td>8.916698e+18</td>\n",
       "      <td>1741.0</td>\n",
       "      <td>1.599114e+06</td>\n",
       "      <td>...</td>\n",
       "      <td>19.0</td>\n",
       "      <td>23.0</td>\n",
       "      <td>1741.0</td>\n",
       "      <td>26.052269</td>\n",
       "      <td>17.713788</td>\n",
       "      <td>0.0</td>\n",
       "      <td>10.0</td>\n",
       "      <td>25.0</td>\n",
       "      <td>41.0</td>\n",
       "      <td>59.0</td>\n",
       "    </tr>\n",
       "  </tbody>\n",
       "</table>\n",
       "<p>6 rows × 48 columns</p>\n",
       "</div>"
      ],
      "text/plain": [
       "                         device_id                                            \\\n",
       "                             count          mean           std           min   \n",
       "state                                                                          \n",
       "AndamanandNicobarIslands    1515.0  1.407078e+17  5.022696e+18 -9.194480e+18   \n",
       "AndhraPradesh             321379.0  1.065864e+17  5.355062e+18 -9.222173e+18   \n",
       "HimachalPradesh             1409.0  5.128569e+17  3.783347e+18 -8.263626e+18   \n",
       "Meghalaya                   1515.0 -5.816818e+17  5.290465e+18 -9.135932e+18   \n",
       "Mizoram                     1613.0 -2.390194e+18  3.953806e+18 -8.698959e+18   \n",
       "Pondicherry                 1741.0  3.008708e+17  4.807785e+18 -9.204220e+18   \n",
       "\n",
       "                                                                    \\\n",
       "                                   25%           50%           75%   \n",
       "state                                                                \n",
       "AndamanandNicobarIslands -2.785190e+18 -1.197758e+18  5.682447e+18   \n",
       "AndhraPradesh            -4.718484e+18 -2.849262e+16  4.945475e+18   \n",
       "HimachalPradesh          -1.832065e+18  8.735586e+17  2.601240e+18   \n",
       "Meghalaya                -4.799203e+18 -1.370786e+18  3.133503e+18   \n",
       "Mizoram                  -6.354642e+18 -2.648870e+18  5.167253e+17   \n",
       "Pondicherry              -2.689792e+18  7.207747e+17  3.790814e+18   \n",
       "\n",
       "                                        event_id                ...  Hour  \\\n",
       "                                   max     count          mean  ...   75%   \n",
       "state                                                           ...         \n",
       "AndamanandNicobarIslands  8.788237e+18    1515.0  1.661683e+06  ...  20.0   \n",
       "AndhraPradesh             9.220807e+18  321379.0  1.625741e+06  ...  18.0   \n",
       "HimachalPradesh           9.019983e+18    1409.0  1.631370e+06  ...  21.0   \n",
       "Meghalaya                 9.206022e+18    1515.0  1.621669e+06  ...  20.0   \n",
       "Mizoram                   9.038479e+18    1613.0  1.674695e+06  ...  19.0   \n",
       "Pondicherry               8.916698e+18    1741.0  1.599114e+06  ...  19.0   \n",
       "\n",
       "                                  Minute                                   \\\n",
       "                           max     count       mean        std  min   25%   \n",
       "state                                                                       \n",
       "AndamanandNicobarIslands  23.0    1515.0  27.676568  17.650458  0.0  12.0   \n",
       "AndhraPradesh             23.0  321379.0  28.042218  17.554142  0.0  13.0   \n",
       "HimachalPradesh           23.0    1409.0  28.777857  17.618581  0.0  13.0   \n",
       "Meghalaya                 23.0    1515.0  28.136634  18.320945  0.0  11.0   \n",
       "Mizoram                   23.0    1613.0  27.908865  17.731727  0.0  12.0   \n",
       "Pondicherry               23.0    1741.0  26.052269  17.713788  0.0  10.0   \n",
       "\n",
       "                                            \n",
       "                           50%   75%   max  \n",
       "state                                       \n",
       "AndamanandNicobarIslands  27.0  43.0  59.0  \n",
       "AndhraPradesh             27.0  43.0  59.0  \n",
       "HimachalPradesh           29.0  43.0  59.0  \n",
       "Meghalaya                 29.0  45.0  59.0  \n",
       "Mizoram                   27.0  43.0  59.0  \n",
       "Pondicherry               25.0  41.0  59.0  \n",
       "\n",
       "[6 rows x 48 columns]"
      ]
     },
     "execution_count": 27,
     "metadata": {},
     "output_type": "execute_result"
    }
   ],
   "source": [
    "df1_with_6_states.groupby(['state']).describe()"
   ]
  },
  {
   "cell_type": "markdown",
   "id": "2f1e789b",
   "metadata": {},
   "source": [
    "**Merging 3rd Dataset**"
   ]
  },
  {
   "cell_type": "code",
   "execution_count": 28,
   "id": "f781f754",
   "metadata": {
    "scrolled": false
   },
   "outputs": [
    {
     "name": "stdout",
     "output_type": "stream",
     "text": [
      "<class 'pandas.core.frame.DataFrame'>\n",
      "Int64Index: 329172 entries, 0 to 329171\n",
      "Data columns (total 16 columns):\n",
      " #   Column        Non-Null Count   Dtype         \n",
      "---  ------        --------------   -----         \n",
      " 0   device_id     329172 non-null  float64       \n",
      " 1   gender        329172 non-null  object        \n",
      " 2   age           329172 non-null  int64         \n",
      " 3   group         329172 non-null  object        \n",
      " 4   phone_brand   329172 non-null  object        \n",
      " 5   device_model  329172 non-null  object        \n",
      " 6   event_id      329172 non-null  int64         \n",
      " 7   timestamp     329172 non-null  object        \n",
      " 8   longitude     329172 non-null  float64       \n",
      " 9   latitude      329172 non-null  float64       \n",
      " 10  city          329172 non-null  object        \n",
      " 11  state         329172 non-null  object        \n",
      " 12  Time_stamp    329172 non-null  datetime64[ns]\n",
      " 13  Date          329172 non-null  object        \n",
      " 14  Hour          329172 non-null  int64         \n",
      " 15  Minute        329172 non-null  int64         \n",
      "dtypes: datetime64[ns](1), float64(3), int64(4), object(8)\n",
      "memory usage: 42.7+ MB\n"
     ]
    }
   ],
   "source": [
    "df2 =  pd.merge(gender_age, df1_with_6_states, on = 'device_id', how = 'inner')\n",
    "df2.info()"
   ]
  },
  {
   "cell_type": "code",
   "execution_count": 29,
   "id": "49792219",
   "metadata": {},
   "outputs": [
    {
     "data": {
      "text/plain": [
       "(329172, 16)"
      ]
     },
     "execution_count": 29,
     "metadata": {},
     "output_type": "execute_result"
    }
   ],
   "source": [
    "df2.shape"
   ]
  },
  {
   "cell_type": "code",
   "execution_count": 30,
   "id": "97b0099f",
   "metadata": {},
   "outputs": [
    {
     "data": {
      "text/html": [
       "<div>\n",
       "<style scoped>\n",
       "    .dataframe tbody tr th:only-of-type {\n",
       "        vertical-align: middle;\n",
       "    }\n",
       "\n",
       "    .dataframe tbody tr th {\n",
       "        vertical-align: top;\n",
       "    }\n",
       "\n",
       "    .dataframe thead tr th {\n",
       "        text-align: left;\n",
       "    }\n",
       "\n",
       "    .dataframe thead tr:last-of-type th {\n",
       "        text-align: right;\n",
       "    }\n",
       "</style>\n",
       "<table border=\"1\" class=\"dataframe\">\n",
       "  <thead>\n",
       "    <tr>\n",
       "      <th></th>\n",
       "      <th colspan=\"8\" halign=\"left\">device_id</th>\n",
       "      <th colspan=\"2\" halign=\"left\">age</th>\n",
       "      <th>...</th>\n",
       "      <th colspan=\"2\" halign=\"left\">Hour</th>\n",
       "      <th colspan=\"8\" halign=\"left\">Minute</th>\n",
       "    </tr>\n",
       "    <tr>\n",
       "      <th></th>\n",
       "      <th>count</th>\n",
       "      <th>mean</th>\n",
       "      <th>std</th>\n",
       "      <th>min</th>\n",
       "      <th>25%</th>\n",
       "      <th>50%</th>\n",
       "      <th>75%</th>\n",
       "      <th>max</th>\n",
       "      <th>count</th>\n",
       "      <th>mean</th>\n",
       "      <th>...</th>\n",
       "      <th>75%</th>\n",
       "      <th>max</th>\n",
       "      <th>count</th>\n",
       "      <th>mean</th>\n",
       "      <th>std</th>\n",
       "      <th>min</th>\n",
       "      <th>25%</th>\n",
       "      <th>50%</th>\n",
       "      <th>75%</th>\n",
       "      <th>max</th>\n",
       "    </tr>\n",
       "    <tr>\n",
       "      <th>state</th>\n",
       "      <th></th>\n",
       "      <th></th>\n",
       "      <th></th>\n",
       "      <th></th>\n",
       "      <th></th>\n",
       "      <th></th>\n",
       "      <th></th>\n",
       "      <th></th>\n",
       "      <th></th>\n",
       "      <th></th>\n",
       "      <th></th>\n",
       "      <th></th>\n",
       "      <th></th>\n",
       "      <th></th>\n",
       "      <th></th>\n",
       "      <th></th>\n",
       "      <th></th>\n",
       "      <th></th>\n",
       "      <th></th>\n",
       "      <th></th>\n",
       "      <th></th>\n",
       "    </tr>\n",
       "  </thead>\n",
       "  <tbody>\n",
       "    <tr>\n",
       "      <th>AndamanandNicobarIslands</th>\n",
       "      <td>1515.0</td>\n",
       "      <td>1.407078e+17</td>\n",
       "      <td>5.022696e+18</td>\n",
       "      <td>-9.194480e+18</td>\n",
       "      <td>-2.785190e+18</td>\n",
       "      <td>-1.197758e+18</td>\n",
       "      <td>5.682447e+18</td>\n",
       "      <td>8.788237e+18</td>\n",
       "      <td>1515.0</td>\n",
       "      <td>37.904290</td>\n",
       "      <td>...</td>\n",
       "      <td>20.0</td>\n",
       "      <td>23.0</td>\n",
       "      <td>1515.0</td>\n",
       "      <td>27.676568</td>\n",
       "      <td>17.650458</td>\n",
       "      <td>0.0</td>\n",
       "      <td>12.0</td>\n",
       "      <td>27.0</td>\n",
       "      <td>43.0</td>\n",
       "      <td>59.0</td>\n",
       "    </tr>\n",
       "    <tr>\n",
       "      <th>AndhraPradesh</th>\n",
       "      <td>321379.0</td>\n",
       "      <td>1.065864e+17</td>\n",
       "      <td>5.355062e+18</td>\n",
       "      <td>-9.222173e+18</td>\n",
       "      <td>-4.718484e+18</td>\n",
       "      <td>-2.849262e+16</td>\n",
       "      <td>4.945475e+18</td>\n",
       "      <td>9.220807e+18</td>\n",
       "      <td>321379.0</td>\n",
       "      <td>30.914733</td>\n",
       "      <td>...</td>\n",
       "      <td>18.0</td>\n",
       "      <td>23.0</td>\n",
       "      <td>321379.0</td>\n",
       "      <td>28.042218</td>\n",
       "      <td>17.554142</td>\n",
       "      <td>0.0</td>\n",
       "      <td>13.0</td>\n",
       "      <td>27.0</td>\n",
       "      <td>43.0</td>\n",
       "      <td>59.0</td>\n",
       "    </tr>\n",
       "    <tr>\n",
       "      <th>HimachalPradesh</th>\n",
       "      <td>1409.0</td>\n",
       "      <td>5.128569e+17</td>\n",
       "      <td>3.783347e+18</td>\n",
       "      <td>-8.263626e+18</td>\n",
       "      <td>-1.832065e+18</td>\n",
       "      <td>8.735586e+17</td>\n",
       "      <td>2.601240e+18</td>\n",
       "      <td>9.019983e+18</td>\n",
       "      <td>1409.0</td>\n",
       "      <td>36.163236</td>\n",
       "      <td>...</td>\n",
       "      <td>21.0</td>\n",
       "      <td>23.0</td>\n",
       "      <td>1409.0</td>\n",
       "      <td>28.777857</td>\n",
       "      <td>17.618581</td>\n",
       "      <td>0.0</td>\n",
       "      <td>13.0</td>\n",
       "      <td>29.0</td>\n",
       "      <td>43.0</td>\n",
       "      <td>59.0</td>\n",
       "    </tr>\n",
       "    <tr>\n",
       "      <th>Meghalaya</th>\n",
       "      <td>1515.0</td>\n",
       "      <td>-5.816818e+17</td>\n",
       "      <td>5.290465e+18</td>\n",
       "      <td>-9.135932e+18</td>\n",
       "      <td>-4.799203e+18</td>\n",
       "      <td>-1.370786e+18</td>\n",
       "      <td>3.133503e+18</td>\n",
       "      <td>9.206022e+18</td>\n",
       "      <td>1515.0</td>\n",
       "      <td>32.490429</td>\n",
       "      <td>...</td>\n",
       "      <td>20.0</td>\n",
       "      <td>23.0</td>\n",
       "      <td>1515.0</td>\n",
       "      <td>28.136634</td>\n",
       "      <td>18.320945</td>\n",
       "      <td>0.0</td>\n",
       "      <td>11.0</td>\n",
       "      <td>29.0</td>\n",
       "      <td>45.0</td>\n",
       "      <td>59.0</td>\n",
       "    </tr>\n",
       "    <tr>\n",
       "      <th>Mizoram</th>\n",
       "      <td>1613.0</td>\n",
       "      <td>-2.390194e+18</td>\n",
       "      <td>3.953806e+18</td>\n",
       "      <td>-8.698959e+18</td>\n",
       "      <td>-6.354642e+18</td>\n",
       "      <td>-2.648870e+18</td>\n",
       "      <td>5.167253e+17</td>\n",
       "      <td>9.038479e+18</td>\n",
       "      <td>1613.0</td>\n",
       "      <td>29.074396</td>\n",
       "      <td>...</td>\n",
       "      <td>19.0</td>\n",
       "      <td>23.0</td>\n",
       "      <td>1613.0</td>\n",
       "      <td>27.908865</td>\n",
       "      <td>17.731727</td>\n",
       "      <td>0.0</td>\n",
       "      <td>12.0</td>\n",
       "      <td>27.0</td>\n",
       "      <td>43.0</td>\n",
       "      <td>59.0</td>\n",
       "    </tr>\n",
       "    <tr>\n",
       "      <th>Pondicherry</th>\n",
       "      <td>1741.0</td>\n",
       "      <td>3.008708e+17</td>\n",
       "      <td>4.807785e+18</td>\n",
       "      <td>-9.204220e+18</td>\n",
       "      <td>-2.689792e+18</td>\n",
       "      <td>7.207747e+17</td>\n",
       "      <td>3.790814e+18</td>\n",
       "      <td>8.916698e+18</td>\n",
       "      <td>1741.0</td>\n",
       "      <td>31.274555</td>\n",
       "      <td>...</td>\n",
       "      <td>19.0</td>\n",
       "      <td>23.0</td>\n",
       "      <td>1741.0</td>\n",
       "      <td>26.052269</td>\n",
       "      <td>17.713788</td>\n",
       "      <td>0.0</td>\n",
       "      <td>10.0</td>\n",
       "      <td>25.0</td>\n",
       "      <td>41.0</td>\n",
       "      <td>59.0</td>\n",
       "    </tr>\n",
       "  </tbody>\n",
       "</table>\n",
       "<p>6 rows × 56 columns</p>\n",
       "</div>"
      ],
      "text/plain": [
       "                         device_id                                            \\\n",
       "                             count          mean           std           min   \n",
       "state                                                                          \n",
       "AndamanandNicobarIslands    1515.0  1.407078e+17  5.022696e+18 -9.194480e+18   \n",
       "AndhraPradesh             321379.0  1.065864e+17  5.355062e+18 -9.222173e+18   \n",
       "HimachalPradesh             1409.0  5.128569e+17  3.783347e+18 -8.263626e+18   \n",
       "Meghalaya                   1515.0 -5.816818e+17  5.290465e+18 -9.135932e+18   \n",
       "Mizoram                     1613.0 -2.390194e+18  3.953806e+18 -8.698959e+18   \n",
       "Pondicherry                 1741.0  3.008708e+17  4.807785e+18 -9.204220e+18   \n",
       "\n",
       "                                                                    \\\n",
       "                                   25%           50%           75%   \n",
       "state                                                                \n",
       "AndamanandNicobarIslands -2.785190e+18 -1.197758e+18  5.682447e+18   \n",
       "AndhraPradesh            -4.718484e+18 -2.849262e+16  4.945475e+18   \n",
       "HimachalPradesh          -1.832065e+18  8.735586e+17  2.601240e+18   \n",
       "Meghalaya                -4.799203e+18 -1.370786e+18  3.133503e+18   \n",
       "Mizoram                  -6.354642e+18 -2.648870e+18  5.167253e+17   \n",
       "Pondicherry              -2.689792e+18  7.207747e+17  3.790814e+18   \n",
       "\n",
       "                                             age             ...  Hour        \\\n",
       "                                   max     count       mean  ...   75%   max   \n",
       "state                                                        ...               \n",
       "AndamanandNicobarIslands  8.788237e+18    1515.0  37.904290  ...  20.0  23.0   \n",
       "AndhraPradesh             9.220807e+18  321379.0  30.914733  ...  18.0  23.0   \n",
       "HimachalPradesh           9.019983e+18    1409.0  36.163236  ...  21.0  23.0   \n",
       "Meghalaya                 9.206022e+18    1515.0  32.490429  ...  20.0  23.0   \n",
       "Mizoram                   9.038479e+18    1613.0  29.074396  ...  19.0  23.0   \n",
       "Pondicherry               8.916698e+18    1741.0  31.274555  ...  19.0  23.0   \n",
       "\n",
       "                            Minute                                         \\\n",
       "                             count       mean        std  min   25%   50%   \n",
       "state                                                                       \n",
       "AndamanandNicobarIslands    1515.0  27.676568  17.650458  0.0  12.0  27.0   \n",
       "AndhraPradesh             321379.0  28.042218  17.554142  0.0  13.0  27.0   \n",
       "HimachalPradesh             1409.0  28.777857  17.618581  0.0  13.0  29.0   \n",
       "Meghalaya                   1515.0  28.136634  18.320945  0.0  11.0  29.0   \n",
       "Mizoram                     1613.0  27.908865  17.731727  0.0  12.0  27.0   \n",
       "Pondicherry                 1741.0  26.052269  17.713788  0.0  10.0  25.0   \n",
       "\n",
       "                                      \n",
       "                           75%   max  \n",
       "state                                 \n",
       "AndamanandNicobarIslands  43.0  59.0  \n",
       "AndhraPradesh             43.0  59.0  \n",
       "HimachalPradesh           43.0  59.0  \n",
       "Meghalaya                 45.0  59.0  \n",
       "Mizoram                   43.0  59.0  \n",
       "Pondicherry               41.0  59.0  \n",
       "\n",
       "[6 rows x 56 columns]"
      ]
     },
     "execution_count": 30,
     "metadata": {},
     "output_type": "execute_result"
    }
   ],
   "source": [
    "df2.groupby(['state']).describe()"
   ]
  },
  {
   "cell_type": "code",
   "execution_count": 31,
   "id": "a6bafe5b",
   "metadata": {},
   "outputs": [
    {
     "data": {
      "text/plain": [
       "device_id       0\n",
       "gender          0\n",
       "age             0\n",
       "group           0\n",
       "phone_brand     0\n",
       "device_model    0\n",
       "event_id        0\n",
       "timestamp       0\n",
       "longitude       0\n",
       "latitude        0\n",
       "city            0\n",
       "state           0\n",
       "Time_stamp      0\n",
       "Date            0\n",
       "Hour            0\n",
       "Minute          0\n",
       "dtype: int64"
      ]
     },
     "execution_count": 31,
     "metadata": {},
     "output_type": "execute_result"
    }
   ],
   "source": [
    "df2.shape[0]-df2.count()          # to chk missing values"
   ]
  },
  {
   "cell_type": "code",
   "execution_count": 32,
   "id": "b95fa255",
   "metadata": {},
   "outputs": [
    {
     "data": {
      "text/html": [
       "<div>\n",
       "<style scoped>\n",
       "    .dataframe tbody tr th:only-of-type {\n",
       "        vertical-align: middle;\n",
       "    }\n",
       "\n",
       "    .dataframe tbody tr th {\n",
       "        vertical-align: top;\n",
       "    }\n",
       "\n",
       "    .dataframe thead th {\n",
       "        text-align: right;\n",
       "    }\n",
       "</style>\n",
       "<table border=\"1\" class=\"dataframe\">\n",
       "  <thead>\n",
       "    <tr style=\"text-align: right;\">\n",
       "      <th></th>\n",
       "      <th>device_id</th>\n",
       "      <th>gender</th>\n",
       "      <th>age</th>\n",
       "      <th>group</th>\n",
       "      <th>phone_brand</th>\n",
       "      <th>device_model</th>\n",
       "      <th>event_id</th>\n",
       "      <th>timestamp</th>\n",
       "      <th>longitude</th>\n",
       "      <th>latitude</th>\n",
       "      <th>city</th>\n",
       "      <th>state</th>\n",
       "      <th>Time_stamp</th>\n",
       "      <th>Date</th>\n",
       "      <th>Hour</th>\n",
       "      <th>Minute</th>\n",
       "    </tr>\n",
       "  </thead>\n",
       "  <tbody>\n",
       "    <tr>\n",
       "      <th>0</th>\n",
       "      <td>-1.039701e+18</td>\n",
       "      <td>M</td>\n",
       "      <td>38</td>\n",
       "      <td>M32-38</td>\n",
       "      <td>Xiaomi</td>\n",
       "      <td>MI 4</td>\n",
       "      <td>2025632</td>\n",
       "      <td>2016-05-05 14:41:44</td>\n",
       "      <td>83.364566</td>\n",
       "      <td>17.788503</td>\n",
       "      <td>Visakhapatnam</td>\n",
       "      <td>AndhraPradesh</td>\n",
       "      <td>2016-05-05 14:41:44</td>\n",
       "      <td>2016-05-05</td>\n",
       "      <td>14</td>\n",
       "      <td>41</td>\n",
       "    </tr>\n",
       "    <tr>\n",
       "      <th>1</th>\n",
       "      <td>-1.039701e+18</td>\n",
       "      <td>M</td>\n",
       "      <td>38</td>\n",
       "      <td>M32-38</td>\n",
       "      <td>Xiaomi</td>\n",
       "      <td>MI 4</td>\n",
       "      <td>1824780</td>\n",
       "      <td>2016-05-07 10:53:16</td>\n",
       "      <td>83.364566</td>\n",
       "      <td>17.788503</td>\n",
       "      <td>Visakhapatnam</td>\n",
       "      <td>AndhraPradesh</td>\n",
       "      <td>2016-05-07 10:53:16</td>\n",
       "      <td>2016-05-07</td>\n",
       "      <td>10</td>\n",
       "      <td>53</td>\n",
       "    </tr>\n",
       "    <tr>\n",
       "      <th>2</th>\n",
       "      <td>-1.039701e+18</td>\n",
       "      <td>M</td>\n",
       "      <td>38</td>\n",
       "      <td>M32-38</td>\n",
       "      <td>Xiaomi</td>\n",
       "      <td>MI 4</td>\n",
       "      <td>1265355</td>\n",
       "      <td>2016-05-02 21:57:40</td>\n",
       "      <td>83.364566</td>\n",
       "      <td>17.788503</td>\n",
       "      <td>Visakhapatnam</td>\n",
       "      <td>AndhraPradesh</td>\n",
       "      <td>2016-05-02 21:57:40</td>\n",
       "      <td>2016-05-02</td>\n",
       "      <td>21</td>\n",
       "      <td>57</td>\n",
       "    </tr>\n",
       "    <tr>\n",
       "      <th>3</th>\n",
       "      <td>-1.039701e+18</td>\n",
       "      <td>M</td>\n",
       "      <td>38</td>\n",
       "      <td>M32-38</td>\n",
       "      <td>Xiaomi</td>\n",
       "      <td>MI 4</td>\n",
       "      <td>3045098</td>\n",
       "      <td>2016-05-07 01:49:48</td>\n",
       "      <td>83.364566</td>\n",
       "      <td>17.788503</td>\n",
       "      <td>Visakhapatnam</td>\n",
       "      <td>AndhraPradesh</td>\n",
       "      <td>2016-05-07 01:49:48</td>\n",
       "      <td>2016-05-07</td>\n",
       "      <td>1</td>\n",
       "      <td>49</td>\n",
       "    </tr>\n",
       "    <tr>\n",
       "      <th>4</th>\n",
       "      <td>-1.039701e+18</td>\n",
       "      <td>M</td>\n",
       "      <td>38</td>\n",
       "      <td>M32-38</td>\n",
       "      <td>Xiaomi</td>\n",
       "      <td>MI 4</td>\n",
       "      <td>177903</td>\n",
       "      <td>2016-05-05 14:39:56</td>\n",
       "      <td>83.364566</td>\n",
       "      <td>17.788503</td>\n",
       "      <td>Visakhapatnam</td>\n",
       "      <td>AndhraPradesh</td>\n",
       "      <td>2016-05-05 14:39:56</td>\n",
       "      <td>2016-05-05</td>\n",
       "      <td>14</td>\n",
       "      <td>39</td>\n",
       "    </tr>\n",
       "  </tbody>\n",
       "</table>\n",
       "</div>"
      ],
      "text/plain": [
       "      device_id gender  age   group phone_brand device_model  event_id  \\\n",
       "0 -1.039701e+18      M   38  M32-38      Xiaomi         MI 4   2025632   \n",
       "1 -1.039701e+18      M   38  M32-38      Xiaomi         MI 4   1824780   \n",
       "2 -1.039701e+18      M   38  M32-38      Xiaomi         MI 4   1265355   \n",
       "3 -1.039701e+18      M   38  M32-38      Xiaomi         MI 4   3045098   \n",
       "4 -1.039701e+18      M   38  M32-38      Xiaomi         MI 4    177903   \n",
       "\n",
       "             timestamp  longitude   latitude           city          state  \\\n",
       "0  2016-05-05 14:41:44  83.364566  17.788503  Visakhapatnam  AndhraPradesh   \n",
       "1  2016-05-07 10:53:16  83.364566  17.788503  Visakhapatnam  AndhraPradesh   \n",
       "2  2016-05-02 21:57:40  83.364566  17.788503  Visakhapatnam  AndhraPradesh   \n",
       "3  2016-05-07 01:49:48  83.364566  17.788503  Visakhapatnam  AndhraPradesh   \n",
       "4  2016-05-05 14:39:56  83.364566  17.788503  Visakhapatnam  AndhraPradesh   \n",
       "\n",
       "           Time_stamp        Date  Hour  Minute  \n",
       "0 2016-05-05 14:41:44  2016-05-05    14      41  \n",
       "1 2016-05-07 10:53:16  2016-05-07    10      53  \n",
       "2 2016-05-02 21:57:40  2016-05-02    21      57  \n",
       "3 2016-05-07 01:49:48  2016-05-07     1      49  \n",
       "4 2016-05-05 14:39:56  2016-05-05    14      39  "
      ]
     },
     "execution_count": 32,
     "metadata": {},
     "output_type": "execute_result"
    }
   ],
   "source": [
    "df2.head()"
   ]
  },
  {
   "cell_type": "code",
   "execution_count": 42,
   "id": "d9b54cb7",
   "metadata": {},
   "outputs": [
    {
     "data": {
      "text/plain": [
       "array(['M32-38', 'M29-31', 'M39+', 'M23-26', 'M27-28', 'F29-32', 'F27-28',\n",
       "       'F33-42', 'F43+', 'M22-', 'F23-', 'F24-26'], dtype=object)"
      ]
     },
     "execution_count": 42,
     "metadata": {},
     "output_type": "execute_result"
    }
   ],
   "source": [
    "df2['group'].unique()"
   ]
  },
  {
   "cell_type": "code",
   "execution_count": 43,
   "id": "8e9302d9",
   "metadata": {},
   "outputs": [
    {
     "data": {
      "text/plain": [
       "5223"
      ]
     },
     "execution_count": 43,
     "metadata": {},
     "output_type": "execute_result"
    }
   ],
   "source": [
    "df2['device_id'].nunique()"
   ]
  },
  {
   "cell_type": "code",
   "execution_count": 44,
   "id": "f7892bda",
   "metadata": {},
   "outputs": [
    {
     "data": {
      "text/plain": [
       "True     323949\n",
       "False      5223\n",
       "Name: device_id, dtype: int64"
      ]
     },
     "execution_count": 44,
     "metadata": {},
     "output_type": "execute_result"
    }
   ],
   "source": [
    "df2['device_id'].duplicated().value_counts()"
   ]
  },
  {
   "cell_type": "code",
   "execution_count": 33,
   "id": "212e59fd",
   "metadata": {},
   "outputs": [
    {
     "data": {
      "text/plain": [
       "state\n",
       "AndhraPradesh               321379\n",
       "Pondicherry                   1741\n",
       "Mizoram                       1613\n",
       "AndamanandNicobarIslands      1515\n",
       "Meghalaya                     1515\n",
       "Name: phone_brand, dtype: int64"
      ]
     },
     "execution_count": 33,
     "metadata": {},
     "output_type": "execute_result"
    }
   ],
   "source": [
    "df2.groupby(['state'])['phone_brand'].count().sort_values(ascending=False).head()"
   ]
  },
  {
   "cell_type": "markdown",
   "id": "6b538c5d",
   "metadata": {},
   "source": [
    "## df2 is final Dataset"
   ]
  },
  {
   "cell_type": "markdown",
   "id": "8d778051",
   "metadata": {
    "id": "8d778051",
    "scrolled": true
   },
   "source": [
    "## EDA"
   ]
  },
  {
   "cell_type": "markdown",
   "id": "57839677",
   "metadata": {
    "id": "57839677",
    "scrolled": true
   },
   "source": [
    "**1. Distribution of Users(device_id) across States. (focused state)**"
   ]
  },
  {
   "cell_type": "code",
   "execution_count": 35,
   "id": "75f853a4",
   "metadata": {
    "scrolled": false
   },
   "outputs": [
    {
     "data": {
      "image/png": "[encoded data removed]",
      "text/plain": [
       "<Figure size 432x288 with 1 Axes>"
      ]
     },
     "metadata": {
      "needs_background": "light"
     },
     "output_type": "display_data"
    }
   ],
   "source": [
    "a = sns.countplot(df2['state'])\n",
    "\n",
    "a.set_xticklabels(a.get_xticklabels(),rotation=90)\n",
    "\n",
    "plt.title('Distribution of States')\n",
    "plt.ylabel('Users', fontsize=12)\n",
    "plt.xlabel('States', fontsize=9)\n",
    "plt.show()"
   ]
  },
  {
   "cell_type": "code",
   "execution_count": null,
   "id": "0717658d",
   "metadata": {},
   "outputs": [],
   "source": [
    "# or \n",
    "df2.state.value_counts().plot(kind='bar')"
   ]
  },
  {
   "cell_type": "markdown",
   "id": "0fa187b6",
   "metadata": {},
   "source": [
    "**Observation**<br>\n",
    "<b>AndhraPradesh has maximum users</b>"
   ]
  },
  {
   "cell_type": "code",
   "execution_count": 36,
   "id": "b37d4708",
   "metadata": {},
   "outputs": [
    {
     "data": {
      "image/png": "[encoded data removed]",
      "text/plain": [
       "<Figure size 432x288 with 1 Axes>"
      ]
     },
     "metadata": {
      "needs_background": "light"
     },
     "output_type": "display_data"
    }
   ],
   "source": [
    "# Distribution of Users(device_id) across all the States.\n",
    "\n",
    "b = sns.countplot(df1['state'])\n",
    "\n",
    "b.set_xticklabels(b.get_xticklabels(),rotation=90)\n",
    "\n",
    "plt.title('Distribution of All States')\n",
    "plt.ylabel('Users', fontsize=12)\n",
    "plt.xlabel('States', fontsize=9)\n",
    "plt.show()"
   ]
  },
  {
   "cell_type": "markdown",
   "id": "1172777c",
   "metadata": {
    "id": "1172777c"
   },
   "source": [
    "**2. Distribution of Users across Phone Brands(Consider only 10 Most used Phone Brands).**"
   ]
  },
  {
   "cell_type": "code",
   "execution_count": 48,
   "id": "9aa8cf8e",
   "metadata": {},
   "outputs": [
    {
     "data": {
      "text/plain": [
       "Xiaomi         87276\n",
       "Samsung        63055\n",
       "Huawei         53339\n",
       "OPPO           32489\n",
       "vivo           30976\n",
       "Meizu          19433\n",
       "Coolpads       15965\n",
       "HTC             4024\n",
       "Lenovo          3439\n",
       "Ningbo Bird     1949\n",
       "Name: phone_brand, dtype: int64"
      ]
     },
     "execution_count": 48,
     "metadata": {},
     "output_type": "execute_result"
    }
   ],
   "source": [
    "users_accross = df2['phone_brand'].value_counts().sort_values(ascending= False).head(10)\n",
    "users_accross"
   ]
  },
  {
   "cell_type": "code",
   "execution_count": 49,
   "id": "4fcb3043",
   "metadata": {},
   "outputs": [
    {
     "data": {
      "image/png": "[encoded data removed]",
      "text/plain": [
       "<Figure size 432x288 with 1 Axes>"
      ]
     },
     "metadata": {
      "needs_background": "light"
     },
     "output_type": "display_data"
    }
   ],
   "source": [
    "users_accross.plot(kind = 'bar')\n",
    "\n",
    "plt.title('Distribution of phone brands')\n",
    "plt.ylabel('Users', fontsize=12)\n",
    "plt.xlabel('Phone Brands', fontsize=12)\n",
    "plt.show()"
   ]
  },
  {
   "cell_type": "code",
   "execution_count": 50,
   "id": "99986d6f",
   "metadata": {},
   "outputs": [
    {
     "data": {
      "text/plain": [
       "<AxesSubplot:>"
      ]
     },
     "execution_count": 50,
     "metadata": {},
     "output_type": "execute_result"
    },
    {
     "data": {
      "image/png": "[encoded data removed]",
      "text/plain": [
       "<Figure size 720x576 with 1 Axes>"
      ]
     },
     "metadata": {
      "needs_background": "light"
     },
     "output_type": "display_data"
    }
   ],
   "source": [
    "# or\n",
    "plt.figure(figsize=(10,8))\n",
    "df2.phone_brand.value_counts().head(10).plot(kind='bar')"
   ]
  },
  {
   "cell_type": "markdown",
   "id": "048b6e50",
   "metadata": {},
   "source": [
    "<b>Top 5 brands are:</b>\n",
    "<ol>\n",
    "    <li>Xiaomi</li>\n",
    "    <li>Samsung</li>\n",
    "    <li>Huawei</li>\n",
    "    <li>OPPO</li>\n",
    "    <li>Vivo</li>\n",
    "</ol>"
   ]
  },
  {
   "cell_type": "code",
   "execution_count": 75,
   "id": "d4b46b2f",
   "metadata": {},
   "outputs": [
    {
     "data": {
      "image/png": "[encoded data removed]",
      "text/plain": [
       "<Figure size 1152x792 with 1 Axes>"
      ]
     },
     "metadata": {},
     "output_type": "display_data"
    }
   ],
   "source": [
    "# or \n",
    "import numpy as np\n",
    "space = np.ones(11)/10\n",
    "df2['phone_brand'].value_counts().head(10).plot(kind='pie',  fontsize=11, autopct='%3.1f%%', wedgeprops=dict(width=0.15), \n",
    "                                       shadow=True, startangle=190, figsize=(16,11), cmap='inferno', legend=True)\n",
    "\n",
    "plt.ylabel('Genre')\n",
    "plt.title('Donut Plot showing the proportion of each genre value')\n",
    "plt.savefig('Donut plot total genre.png')"
   ]
  },
  {
   "cell_type": "markdown",
   "id": "e3066cfa",
   "metadata": {
    "id": "e3066cfa"
   },
   "source": [
    "**3. Distribution of Users across Gender.**"
   ]
  },
  {
   "cell_type": "code",
   "execution_count": 53,
   "id": "f1905cfe",
   "metadata": {},
   "outputs": [
    {
     "data": {
      "text/plain": [
       "M    211956\n",
       "F    117216\n",
       "Name: gender, dtype: int64"
      ]
     },
     "execution_count": 53,
     "metadata": {},
     "output_type": "execute_result"
    }
   ],
   "source": [
    "g = df2['gender'].value_counts().sort_values(ascending= False)\n",
    "g"
   ]
  },
  {
   "cell_type": "code",
   "execution_count": 54,
   "id": "f1de0785",
   "metadata": {
    "scrolled": false
   },
   "outputs": [
    {
     "data": {
      "text/plain": [
       "Text(0.5, 0, 'Gender')"
      ]
     },
     "execution_count": 54,
     "metadata": {},
     "output_type": "execute_result"
    },
    {
     "data": {
      "image/png": "[encoded data removed]",
      "text/plain": [
       "<Figure size 432x288 with 1 Axes>"
      ]
     },
     "metadata": {
      "needs_background": "light"
     },
     "output_type": "display_data"
    }
   ],
   "source": [
    "g.plot.bar()\n",
    "\n",
    "plt.title('Distribution across Gender')\n",
    "plt.ylabel('Users', fontsize=12)\n",
    "plt.xlabel('Gender', fontsize=12)\n",
    "# plt.show()"
   ]
  },
  {
   "cell_type": "markdown",
   "id": "5feb98a7",
   "metadata": {},
   "source": [
    "<b>There are more Male users than Females</b>"
   ]
  },
  {
   "cell_type": "markdown",
   "id": "447001cf",
   "metadata": {
    "id": "447001cf"
   },
   "source": [
    "**4. Distribution of Users across Age Segments.**\n",
    "\n",
    "Gender wise distribution of users for top brand"
   ]
  },
  {
   "cell_type": "code",
   "execution_count": 32,
   "id": "72ea8451",
   "metadata": {
    "scrolled": false
   },
   "outputs": [
    {
     "data": {
      "text/plain": [
       "<AxesSubplot:xlabel='gender,phone_brand'>"
      ]
     },
     "execution_count": 32,
     "metadata": {},
     "output_type": "execute_result"
    },
    {
     "data": {
      "image/png": "[encoded data removed]",
      "text/plain": [
       "<Figure size 432x288 with 1 Axes>"
      ]
     },
     "metadata": {
      "needs_background": "light"
     },
     "output_type": "display_data"
    }
   ],
   "source": [
    "df2[df2.gender=='M'].groupby(['gender','phone_brand']).phone_brand.count().sort_values(ascending=False).head(10).plot(kind='bar',color='purple')"
   ]
  },
  {
   "cell_type": "markdown",
   "id": "32ede879",
   "metadata": {},
   "source": [
    "**Observation**\n",
    "- In males, Xiaomi is most preferd then Samsung and Huawei have equal no. of male users"
   ]
  },
  {
   "cell_type": "code",
   "execution_count": 77,
   "id": "028d3243",
   "metadata": {
    "scrolled": false
   },
   "outputs": [
    {
     "data": {
      "text/plain": [
       "<AxesSubplot:xlabel='gender,phone_brand'>"
      ]
     },
     "execution_count": 77,
     "metadata": {},
     "output_type": "execute_result"
    },
    {
     "data": {
      "image/png": "[encoded data removed]",
      "text/plain": [
       "<Figure size 432x288 with 1 Axes>"
      ]
     },
     "metadata": {
      "needs_background": "light"
     },
     "output_type": "display_data"
    }
   ],
   "source": [
    "df2[df2.gender=='F'].groupby(['gender','phone_brand']).phone_brand.count().sort_values(ascending=False).head(10).plot(kind='bar')"
   ]
  },
  {
   "cell_type": "markdown",
   "id": "df63dc99",
   "metadata": {},
   "source": [
    "**Observation**\n",
    "- In Females, Most of them prefer Xiaomi and then Samsung"
   ]
  },
  {
   "cell_type": "markdown",
   "id": "99a83a55",
   "metadata": {},
   "source": [
    "<b>5. Distribution of different Age Groups </b>"
   ]
  },
  {
   "cell_type": "code",
   "execution_count": 78,
   "id": "a81a3290",
   "metadata": {},
   "outputs": [
    {
     "data": {
      "text/plain": [
       "array([ 1, 12, 13, 14, 15, 16, 17, 18, 19, 20, 21, 22, 23, 24, 25, 26, 27,\n",
       "       28, 29, 30, 31, 32, 33, 34, 35, 36, 37, 38, 39, 40, 41, 42, 43, 44,\n",
       "       45, 46, 47, 48, 49, 50, 51, 52, 53, 54, 55, 56, 57, 58, 59, 60, 61,\n",
       "       62, 63, 64, 65, 66, 67, 68, 69, 70, 71, 72, 73, 75, 76, 77, 78, 79,\n",
       "       80, 81, 84, 88], dtype=int64)"
      ]
     },
     "execution_count": 78,
     "metadata": {},
     "output_type": "execute_result"
    }
   ],
   "source": [
    "df2.age.sort_values().unique()"
   ]
  },
  {
   "cell_type": "code",
   "execution_count": 86,
   "id": "158aafe0",
   "metadata": {
    "scrolled": false
   },
   "outputs": [
    {
     "data": {
      "image/png": "[encoded data removed]",
      "text/plain": [
       "<Figure size 1152x720 with 1 Axes>"
      ]
     },
     "metadata": {
      "needs_background": "light"
     },
     "output_type": "display_data"
    }
   ],
   "source": [
    "plt.figure(figsize= (16,10))     # Pandas cut() function is used to separate the array elements into different bins \n",
    "df2['merge_age_group'] = pd.cut(df2['age'],  \n",
    "                               [1,10,20,30,40,50,60,70,80],\n",
    "                                labels = ['10-20','21-30','31-40','41-50','51-60','61-70','71-80','80+'], include_lowest=True)\n",
    "\n",
    "df2.groupby(['merge_age_group'])['phone_brand'].count().sort_values(ascending=False).head(20).plot.bar(color='green',fontsize=14)\n",
    "plt.ylabel('count', fontsize = 12)\n",
    "plt.xlabel('age group',fontsize=14)\n",
    "\n",
    "plt.title('Rating vs Revenue')\n",
    "plt.savefig('runtime revenue.png')\n",
    "\n",
    "# to understand Pandas.cut() method in Python\n",
    "#https://www.geeksforgeeks.org/pandas-cut-method-in-python/#:~:text=cut()%20method%20in%20Python,-Difficulty%20Level%20%3A%20Basic&text=Pandas%20cut()%20function%20is,statistical%20analysis%20on%20scalar%20data."
   ]
  },
  {
   "cell_type": "markdown",
   "id": "49f951f5",
   "metadata": {},
   "source": [
    "**Observation**\n",
    "- Top 3 Brands used by the age group 31-40 are : Xiamo, Samsung, Huawei"
   ]
  },
  {
   "cell_type": "code",
   "execution_count": 79,
   "id": "5adc764b",
   "metadata": {},
   "outputs": [
    {
     "data": {
      "text/html": [
       "<div>\n",
       "<style scoped>\n",
       "    .dataframe tbody tr th:only-of-type {\n",
       "        vertical-align: middle;\n",
       "    }\n",
       "\n",
       "    .dataframe tbody tr th {\n",
       "        vertical-align: top;\n",
       "    }\n",
       "\n",
       "    .dataframe thead th {\n",
       "        text-align: right;\n",
       "    }\n",
       "</style>\n",
       "<table border=\"1\" class=\"dataframe\">\n",
       "  <thead>\n",
       "    <tr style=\"text-align: right;\">\n",
       "      <th></th>\n",
       "      <th>device_id</th>\n",
       "      <th>gender</th>\n",
       "      <th>age</th>\n",
       "      <th>group</th>\n",
       "      <th>phone_brand</th>\n",
       "      <th>device_model</th>\n",
       "      <th>event_id</th>\n",
       "      <th>timestamp</th>\n",
       "      <th>longitude</th>\n",
       "      <th>latitude</th>\n",
       "      <th>city</th>\n",
       "      <th>state</th>\n",
       "      <th>Time_stamp</th>\n",
       "      <th>Date</th>\n",
       "      <th>Hour</th>\n",
       "      <th>Minute</th>\n",
       "    </tr>\n",
       "  </thead>\n",
       "  <tbody>\n",
       "    <tr>\n",
       "      <th>0</th>\n",
       "      <td>-1.039701e+18</td>\n",
       "      <td>M</td>\n",
       "      <td>38</td>\n",
       "      <td>M32-38</td>\n",
       "      <td>Xiaomi</td>\n",
       "      <td>MI 4</td>\n",
       "      <td>2025632</td>\n",
       "      <td>2016-05-05 14:41:44</td>\n",
       "      <td>83.364566</td>\n",
       "      <td>17.788503</td>\n",
       "      <td>Visakhapatnam</td>\n",
       "      <td>AndhraPradesh</td>\n",
       "      <td>2016-05-05 14:41:44</td>\n",
       "      <td>2016-05-05</td>\n",
       "      <td>14</td>\n",
       "      <td>41</td>\n",
       "    </tr>\n",
       "    <tr>\n",
       "      <th>1</th>\n",
       "      <td>-1.039701e+18</td>\n",
       "      <td>M</td>\n",
       "      <td>38</td>\n",
       "      <td>M32-38</td>\n",
       "      <td>Xiaomi</td>\n",
       "      <td>MI 4</td>\n",
       "      <td>1824780</td>\n",
       "      <td>2016-05-07 10:53:16</td>\n",
       "      <td>83.364566</td>\n",
       "      <td>17.788503</td>\n",
       "      <td>Visakhapatnam</td>\n",
       "      <td>AndhraPradesh</td>\n",
       "      <td>2016-05-07 10:53:16</td>\n",
       "      <td>2016-05-07</td>\n",
       "      <td>10</td>\n",
       "      <td>53</td>\n",
       "    </tr>\n",
       "  </tbody>\n",
       "</table>\n",
       "</div>"
      ],
      "text/plain": [
       "      device_id gender  age   group phone_brand device_model  event_id  \\\n",
       "0 -1.039701e+18      M   38  M32-38      Xiaomi         MI 4   2025632   \n",
       "1 -1.039701e+18      M   38  M32-38      Xiaomi         MI 4   1824780   \n",
       "\n",
       "             timestamp  longitude   latitude           city          state  \\\n",
       "0  2016-05-05 14:41:44  83.364566  17.788503  Visakhapatnam  AndhraPradesh   \n",
       "1  2016-05-07 10:53:16  83.364566  17.788503  Visakhapatnam  AndhraPradesh   \n",
       "\n",
       "           Time_stamp        Date  Hour  Minute  \n",
       "0 2016-05-05 14:41:44  2016-05-05    14      41  \n",
       "1 2016-05-07 10:53:16  2016-05-07    10      53  "
      ]
     },
     "execution_count": 79,
     "metadata": {},
     "output_type": "execute_result"
    }
   ],
   "source": [
    "df2.head(2)"
   ]
  },
  {
   "cell_type": "markdown",
   "id": "d67e673c",
   "metadata": {
    "id": "d67e673c"
   },
   "source": [
    "<b> 6. Distribution of Phone Brands(Consider only 10 Most used Phone Brands) for each Age Segment, State, Gender.</b>"
   ]
  },
  {
   "cell_type": "code",
   "execution_count": 40,
   "id": "276a22d6",
   "metadata": {},
   "outputs": [
    {
     "data": {
      "text/plain": [
       "<AxesSubplot:xlabel='group,phone_brand'>"
      ]
     },
     "execution_count": 40,
     "metadata": {},
     "output_type": "execute_result"
    },
    {
     "data": {
      "image/png": "[encoded data removed]",
      "text/plain": [
       "<Figure size 864x360 with 1 Axes>"
      ]
     },
     "metadata": {
      "needs_background": "light"
     },
     "output_type": "display_data"
    }
   ],
   "source": [
    "plt.figure(figsize=(12,5))\n",
    "df2[df2.gender=='M'].groupby(['group','phone_brand'])['phone_brand'].count().sort_values(ascending = False).head(10).plot(kind='bar')"
   ]
  },
  {
   "cell_type": "markdown",
   "id": "876c6688",
   "metadata": {},
   "source": [
    "**Observation**\n",
    "- Max Male users belonging of age group 23-26/39+/22 use Xiaomi\n",
    "- Samsung is widely used in the age group 32-38"
   ]
  },
  {
   "cell_type": "code",
   "execution_count": 41,
   "id": "2d9284aa",
   "metadata": {},
   "outputs": [
    {
     "data": {
      "text/plain": [
       "<AxesSubplot:xlabel='group,phone_brand'>"
      ]
     },
     "execution_count": 41,
     "metadata": {},
     "output_type": "execute_result"
    },
    {
     "data": {
      "image/png": "[encoded data removed]",
      "text/plain": [
       "<Figure size 864x360 with 1 Axes>"
      ]
     },
     "metadata": {
      "needs_background": "light"
     },
     "output_type": "display_data"
    }
   ],
   "source": [
    "plt.figure(figsize=(12,5))\n",
    "df2[df2.gender=='F'].groupby(['group','phone_brand'])['phone_brand'].count().sort_values(ascending = False).head(10).plot(kind='bar')"
   ]
  },
  {
   "cell_type": "markdown",
   "id": "38fd211a",
   "metadata": {},
   "source": [
    "**Observation**\n",
    "- Max Female users belonging to the age group of all 23-42 use Xiaomi\n",
    "- Samsung is widely used in the age group 33-42, 43+"
   ]
  },
  {
   "cell_type": "markdown",
   "id": "86cf1441",
   "metadata": {},
   "source": [
    "<b>7. Which Xiaomi model are most used?</b>"
   ]
  },
  {
   "cell_type": "code",
   "execution_count": 47,
   "id": "01c8acda",
   "metadata": {},
   "outputs": [
    {
     "data": {
      "text/plain": [
       "<AxesSubplot:xlabel='device_model'>"
      ]
     },
     "execution_count": 47,
     "metadata": {},
     "output_type": "execute_result"
    },
    {
     "data": {
      "image/png": "[encoded data removed]",
      "text/plain": [
       "<Figure size 720x360 with 1 Axes>"
      ]
     },
     "metadata": {
      "needs_background": "light"
     },
     "output_type": "display_data"
    }
   ],
   "source": [
    "plt.figure(figsize=(10,5))\n",
    "df2[df2.phone_brand=='Xiaomi'].groupby(['device_model'])['phone_brand'].count().sort_values(ascending= False).head(10).plot(kind='bar')"
   ]
  },
  {
   "cell_type": "code",
   "execution_count": 48,
   "id": "f90586c5",
   "metadata": {
    "scrolled": true
   },
   "outputs": [
    {
     "data": {
      "text/plain": [
       "device_model\n",
       "红米note       15797\n",
       "MI 2S        11162\n",
       "MI 3         10115\n",
       "红米1S          7382\n",
       "MI 4          6046\n",
       "红米Note2       5270\n",
       "红米            4211\n",
       "红米2           3178\n",
       "MI 2          3168\n",
       "红米note增强版     2983\n",
       "Name: phone_brand, dtype: int64"
      ]
     },
     "execution_count": 48,
     "metadata": {},
     "output_type": "execute_result"
    }
   ],
   "source": [
    "df2[df2.phone_brand=='Xiaomi'].groupby(['device_model'])['phone_brand'].count().sort_values(ascending= False).head(10)"
   ]
  },
  {
   "cell_type": "markdown",
   "id": "888f01be",
   "metadata": {},
   "source": [
    "**Observation**\n",
    "- Top 5 models are:\n",
    "1. Redmi Note\n",
    "2. MI 2s\n",
    "3. MI 3\n",
    "4. Redmi 1S\n",
    "5. MI 4"
   ]
  },
  {
   "cell_type": "markdown",
   "id": "136a0873",
   "metadata": {},
   "source": [
    "<b>8. Which Samsung model are most used?</b>"
   ]
  },
  {
   "cell_type": "code",
   "execution_count": 51,
   "id": "4a561290",
   "metadata": {
    "scrolled": false
   },
   "outputs": [
    {
     "data": {
      "text/plain": [
       "<AxesSubplot:xlabel='device_model'>"
      ]
     },
     "execution_count": 51,
     "metadata": {},
     "output_type": "execute_result"
    },
    {
     "data": {
      "image/png": "[encoded data removed]",
      "text/plain": [
       "<Figure size 720x360 with 1 Axes>"
      ]
     },
     "metadata": {
      "needs_background": "light"
     },
     "output_type": "display_data"
    }
   ],
   "source": [
    "plt.figure(figsize=(10,5))\n",
    "df2[df2.phone_brand=='Samsung'].groupby(['device_model'])['phone_brand'].count().sort_values(ascending= False).head(10).plot(kind='bar',color = 'green')"
   ]
  },
  {
   "cell_type": "markdown",
   "id": "0e9561c5",
   "metadata": {},
   "source": [
    "**Observation**\n",
    "- Top 5 models are:\n",
    "1. Galaxy Note 3\n",
    "2. Galaxy Note 2\n",
    "3. Galaxy S4\n",
    "4. Galaxy S3\n",
    "5. Galaxy S5"
   ]
  },
  {
   "cell_type": "markdown",
   "id": "16452caf",
   "metadata": {},
   "source": [
    "<b>9. Which Huawei model are most used?</b>"
   ]
  },
  {
   "cell_type": "code",
   "execution_count": 53,
   "id": "47ae751d",
   "metadata": {
    "scrolled": false
   },
   "outputs": [
    {
     "data": {
      "text/plain": [
       "<AxesSubplot:xlabel='device_model'>"
      ]
     },
     "execution_count": 53,
     "metadata": {},
     "output_type": "execute_result"
    },
    {
     "data": {
      "image/png": "[encoded data removed]",
      "text/plain": [
       "<Figure size 720x360 with 1 Axes>"
      ]
     },
     "metadata": {
      "needs_background": "light"
     },
     "output_type": "display_data"
    }
   ],
   "source": [
    "plt.figure(figsize=(10,5))\n",
    "df2[df2.phone_brand=='Huawei'].groupby(['device_model'])['phone_brand'].count().sort_values(ascending= False).head(10).plot(kind='bar',color = 'brown')"
   ]
  },
  {
   "cell_type": "code",
   "execution_count": 54,
   "id": "e624f29b",
   "metadata": {},
   "outputs": [
    {
     "data": {
      "text/plain": [
       "device_model\n",
       "荣耀畅玩4X       4807\n",
       "荣耀3C         4234\n",
       "荣耀3X畅玩版      3725\n",
       "荣耀6          3640\n",
       "Ascend P7    3617\n",
       "Mate 7       3495\n",
       "荣耀6 Plus     3427\n",
       "荣耀7          2289\n",
       "Ascend P8    2165\n",
       "G610S        2011\n",
       "Name: phone_brand, dtype: int64"
      ]
     },
     "execution_count": 54,
     "metadata": {},
     "output_type": "execute_result"
    }
   ],
   "source": [
    "df2[df2.phone_brand=='Huawei'].groupby(['device_model'])['phone_brand'].count().sort_values(ascending= False).head(10)"
   ]
  },
  {
   "cell_type": "markdown",
   "id": "9b855715",
   "metadata": {},
   "source": [
    "**Observation**\n",
    "- Top 5 models are:\n",
    " 1. 荣耀畅玩4X \n",
    " 2. 荣耀3C\n",
    " 3. 荣耀3X畅玩版\n",
    " 4. 荣耀6\n",
    " 5. Ascend P7"
   ]
  },
  {
   "cell_type": "markdown",
   "id": "7a01fdf5",
   "metadata": {},
   "source": [
    "<b>10. Which city has maximun usage of phones?<b>"
   ]
  },
  {
   "cell_type": "code",
   "execution_count": 55,
   "id": "ca26338d",
   "metadata": {},
   "outputs": [
    {
     "data": {
      "text/html": [
       "<div>\n",
       "<style scoped>\n",
       "    .dataframe tbody tr th:only-of-type {\n",
       "        vertical-align: middle;\n",
       "    }\n",
       "\n",
       "    .dataframe tbody tr th {\n",
       "        vertical-align: top;\n",
       "    }\n",
       "\n",
       "    .dataframe thead th {\n",
       "        text-align: right;\n",
       "    }\n",
       "</style>\n",
       "<table border=\"1\" class=\"dataframe\">\n",
       "  <thead>\n",
       "    <tr style=\"text-align: right;\">\n",
       "      <th></th>\n",
       "      <th>device_id</th>\n",
       "      <th>gender</th>\n",
       "      <th>age</th>\n",
       "      <th>group</th>\n",
       "      <th>phone_brand</th>\n",
       "      <th>device_model</th>\n",
       "      <th>event_id</th>\n",
       "      <th>timestamp</th>\n",
       "      <th>longitude</th>\n",
       "      <th>latitude</th>\n",
       "      <th>city</th>\n",
       "      <th>state</th>\n",
       "      <th>Time_stamp</th>\n",
       "      <th>Date</th>\n",
       "      <th>Hour</th>\n",
       "      <th>Minute</th>\n",
       "    </tr>\n",
       "  </thead>\n",
       "  <tbody>\n",
       "    <tr>\n",
       "      <th>0</th>\n",
       "      <td>-1.039701e+18</td>\n",
       "      <td>M</td>\n",
       "      <td>38</td>\n",
       "      <td>M32-38</td>\n",
       "      <td>Xiaomi</td>\n",
       "      <td>MI 4</td>\n",
       "      <td>2025632</td>\n",
       "      <td>2016-05-05 14:41:44</td>\n",
       "      <td>83.364566</td>\n",
       "      <td>17.788503</td>\n",
       "      <td>Visakhapatnam</td>\n",
       "      <td>AndhraPradesh</td>\n",
       "      <td>2016-05-05 14:41:44</td>\n",
       "      <td>2016-05-05</td>\n",
       "      <td>14</td>\n",
       "      <td>41</td>\n",
       "    </tr>\n",
       "    <tr>\n",
       "      <th>1</th>\n",
       "      <td>-1.039701e+18</td>\n",
       "      <td>M</td>\n",
       "      <td>38</td>\n",
       "      <td>M32-38</td>\n",
       "      <td>Xiaomi</td>\n",
       "      <td>MI 4</td>\n",
       "      <td>1824780</td>\n",
       "      <td>2016-05-07 10:53:16</td>\n",
       "      <td>83.364566</td>\n",
       "      <td>17.788503</td>\n",
       "      <td>Visakhapatnam</td>\n",
       "      <td>AndhraPradesh</td>\n",
       "      <td>2016-05-07 10:53:16</td>\n",
       "      <td>2016-05-07</td>\n",
       "      <td>10</td>\n",
       "      <td>53</td>\n",
       "    </tr>\n",
       "  </tbody>\n",
       "</table>\n",
       "</div>"
      ],
      "text/plain": [
       "      device_id gender  age   group phone_brand device_model  event_id  \\\n",
       "0 -1.039701e+18      M   38  M32-38      Xiaomi         MI 4   2025632   \n",
       "1 -1.039701e+18      M   38  M32-38      Xiaomi         MI 4   1824780   \n",
       "\n",
       "             timestamp  longitude   latitude           city          state  \\\n",
       "0  2016-05-05 14:41:44  83.364566  17.788503  Visakhapatnam  AndhraPradesh   \n",
       "1  2016-05-07 10:53:16  83.364566  17.788503  Visakhapatnam  AndhraPradesh   \n",
       "\n",
       "           Time_stamp        Date  Hour  Minute  \n",
       "0 2016-05-05 14:41:44  2016-05-05    14      41  \n",
       "1 2016-05-07 10:53:16  2016-05-07    10      53  "
      ]
     },
     "execution_count": 55,
     "metadata": {},
     "output_type": "execute_result"
    }
   ],
   "source": [
    "df2.head(2)"
   ]
  },
  {
   "cell_type": "code",
   "execution_count": 56,
   "id": "e8389de9",
   "metadata": {},
   "outputs": [
    {
     "data": {
      "text/plain": [
       "city\n",
       "Visakhapatnam    235772\n",
       "Bodhan             1539\n",
       "Sattenapalle       1521\n",
       "PortBlair          1515\n",
       "Kodar              1488\n",
       "Rayadrug           1482\n",
       "Shimla             1409\n",
       "Ramagundam         1331\n",
       "Palwancha          1298\n",
       "Bhongir            1282\n",
       "Name: phone_brand, dtype: int64"
      ]
     },
     "execution_count": 56,
     "metadata": {},
     "output_type": "execute_result"
    }
   ],
   "source": [
    "df2.groupby(['city'])['phone_brand'].count().sort_values(ascending= False).head(10)"
   ]
  },
  {
   "cell_type": "code",
   "execution_count": 60,
   "id": "09b6fcf5",
   "metadata": {},
   "outputs": [
    {
     "data": {
      "text/plain": [
       "<AxesSubplot:xlabel='city'>"
      ]
     },
     "execution_count": 60,
     "metadata": {},
     "output_type": "execute_result"
    },
    {
     "data": {
      "image/png": "[encoded data removed]",
      "text/plain": [
       "<Figure size 720x360 with 1 Axes>"
      ]
     },
     "metadata": {
      "needs_background": "light"
     },
     "output_type": "display_data"
    }
   ],
   "source": [
    "plt.figure(figsize=(10,5))\n",
    "df2.groupby(['city'])['phone_brand'].count().sort_values(ascending= False).head(10).plot.bar()"
   ]
  },
  {
   "cell_type": "code",
   "execution_count": 65,
   "id": "ba19232a",
   "metadata": {},
   "outputs": [
    {
     "data": {
      "text/plain": [
       "<AxesSubplot:xlabel='phone_brand'>"
      ]
     },
     "execution_count": 65,
     "metadata": {},
     "output_type": "execute_result"
    },
    {
     "data": {
      "image/png": "[encoded data removed]",
      "text/plain": [
       "<Figure size 432x288 with 1 Axes>"
      ]
     },
     "metadata": {
      "needs_background": "light"
     },
     "output_type": "display_data"
    }
   ],
   "source": [
    "df2[df2.city=='Visakhapatnam'].groupby('phone_brand')['phone_brand'].count().sort_values(ascending=False).head(10).plot.bar()"
   ]
  },
  {
   "cell_type": "code",
   "execution_count": 86,
   "id": "9fc686cc",
   "metadata": {},
   "outputs": [
    {
     "data": {
      "image/png": "[encoded data removed]",
      "text/plain": [
       "<Figure size 720x576 with 2 Axes>"
      ]
     },
     "metadata": {
      "needs_background": "light"
     },
     "output_type": "display_data"
    }
   ],
   "source": [
    "corr_mat = df2.corr()\n",
    "plt.figure(figsize=(10,8))\n",
    "sns.heatmap(corr_mat, annot=True, cmap='viridis')\n",
    "plt.savefig('correlation.png')"
   ]
  },
  {
   "cell_type": "markdown",
   "id": "17f99327",
   "metadata": {},
   "source": [
    "**Summary**\n",
    "- Xiaomi has captured Maximum Market, main reason can be they are cheaper than Samsung\n",
    "- Samsung always spend a lot of money for Research and Development  \n",
    "- So, they are not able to sell their phone in a cheap budget,like Xiaomi\n",
    "- The Chinese brand Xiaomi makes awesome configuration smartphones in a low cheap price\n",
    "- Xiaomi really understands the demand of the Indian people. \n",
    "- They understand that the Indian people always want smartphone with fast Qualcomm Snapdragon Octa core processor, a long lasting battery life and awesome camera in a low mid rangen price segment.\n",
    "- One specific feature which separates Redmi from the other brands is their IR blaster sensor\n",
    "- Samsung and Huawei are making their way to become top but if Samsung wants to beat Xiaomi, it needs to find a way to reduce cost\n",
    "- Brands like OPPO and Vivo need to come up with a unique technology at the same time sell at a comparable price as Xiaomi to capture more customers \n",
    "- All brands must target age group 31 to 40 which has maximum users"
   ]
  },
  {
   "cell_type": "code",
   "execution_count": null,
   "id": "3f93bc3b",
   "metadata": {},
   "outputs": [],
   "source": []
  }
 ],
 "metadata": {
  "kernelspec": {
   "display_name": "Python 3 (ipykernel)",
   "language": "python",
   "name": "python3"
  },
  "language_info": {
   "codemirror_mode": {
    "name": "ipython",
    "version": 3
   },
   "file_extension": ".py",
   "mimetype": "text/x-python",
   "name": "python",
   "nbconvert_exporter": "python",
   "pygments_lexer": "ipython3",
   "version": "3.9.7"
  }
 },
 "nbformat": 4,
 "nbformat_minor": 5
}
